{
 "cells": [
  {
   "cell_type": "code",
   "execution_count": 1,
   "metadata": {},
   "outputs": [],
   "source": [
    "from drl4dypm.agent import *\n",
    "from drl4dypm.env import *\n",
    "import time, copy\n",
    "\n",
    "from matplotlib import pyplot as plt\n"
   ]
  },
  {
   "cell_type": "markdown",
   "metadata": {},
   "source": [
    "# Base agent"
   ]
  },
  {
   "cell_type": "markdown",
   "metadata": {},
   "source": [
    "## setup"
   ]
  },
  {
   "cell_type": "code",
   "execution_count": 51,
   "metadata": {},
   "outputs": [],
   "source": [
    "# environment params\n",
    "trading_days = 252\n",
    "asset_names = ['AAL','AMZN','GOOG','FB','TSLA','CVS','FDX']\n",
    "k = 10\n",
    "cost_bps = 1e-3\n",
    "path_to_data = 'data/stock_price.csv'\n",
    "\n",
    "# agent params\n",
    "num_assets = len(asset_names)\n",
    "state_dim = 3*num_assets\n",
    "action_dim = 1+num_assets\n",
    "\n",
    "critic_learning_rate = 0.1**3\n",
    "actor_learning_rate = critic_learning_rate * 0.5\n",
    "\n",
    "network_params = {\n",
    "    'actor': {\n",
    "        'lstm': {\n",
    "            'hidden_dim': 20,\n",
    "            'num_layers': 2\n",
    "        },\n",
    "        'fc': [16,16],\n",
    "        'dropout': 0.5,\n",
    "    },\n",
    "    'critic': {\n",
    "        'lstm': {\n",
    "            'hidden_dim': 20,\n",
    "            'num_layers': 2\n",
    "        },\n",
    "        'fc': [16,16],\n",
    "        'dropout': 0.5,\n",
    "    }\n",
    "}\n",
    "\n",
    "# training params\n",
    "max_episode = 10\n",
    "min_episode_to_train = -1"
   ]
  },
  {
   "cell_type": "code",
   "execution_count": 3,
   "metadata": {},
   "outputs": [],
   "source": [
    "# trading environment\n",
    "env = TradingEnvironment(num_steps=trading_days, \n",
    "                         asset_names=asset_names, \n",
    "                         k=k, \n",
    "                         cost_bps=cost_bps,\n",
    "                         agent_names=['base'],\n",
    "                         path_to_data=path_to_data\n",
    "                        )"
   ]
  },
  {
   "cell_type": "code",
   "execution_count": 50,
   "metadata": {},
   "outputs": [
    {
     "name": "stderr",
     "output_type": "stream",
     "text": [
      "\u001b[33m[2021-03-07 01:01:20,946] <WARNING>:default_logger:The reduction property of criterion is not 'none', automatically corrected.\u001b[0m\n"
     ]
    }
   ],
   "source": [
    "# agent\n",
    "agent = RLAgent(state_dim,\n",
    "                action_dim,\n",
    "                k,\n",
    "                network_params,\n",
    "                actor_learning_rate,\n",
    "                critic_learning_rate,\n",
    "                replay_capacity=int(1e3)\n",
    "               )"
   ]
  },
  {
   "cell_type": "markdown",
   "metadata": {},
   "source": [
    "## training"
   ]
  },
  {
   "cell_type": "code",
   "execution_count": 91,
   "metadata": {},
   "outputs": [],
   "source": [
    "env.reset()"
   ]
  },
  {
   "cell_type": "code",
   "execution_count": 12,
   "metadata": {},
   "outputs": [
    {
     "name": "stderr",
     "output_type": "stream",
     "text": [
      "\u001b[33m[2021-03-07 00:49:56,089] <WARNING>:default_logger:You have not specified the i/o device of your model <class 'drl4dypm.agent.Actor'>, automatically determined and set to: cpu\n",
      "The framework is not responsible for any un-matching device issues caused by this operation.\u001b[0m\n"
     ]
    },
    {
     "name": "stdout",
     "output_type": "stream",
     "text": [
      "episode     |reward      |reward_sm   |critic_loss |actor_loss  |elp         |elp_sum     \n"
     ]
    },
    {
     "name": "stderr",
     "output_type": "stream",
     "text": [
      "\u001b[33m[2021-03-07 00:50:02,680] <WARNING>:default_logger:You have not specified the i/o device of your model <class 'drl4dypm.agent.Actor'>, automatically determined and set to: cpu\n",
      "The framework is not responsible for any un-matching device issues caused by this operation.\u001b[0m\n",
      "\u001b[33m[2021-03-07 00:50:02,688] <WARNING>:default_logger:You have not specified the i/o device of your model <class 'drl4dypm.agent.Critic'>, automatically determined and set to: cpu\n",
      "The framework is not responsible for any un-matching device issues caused by this operation.\u001b[0m\n",
      "\u001b[33m[2021-03-07 00:50:02,696] <WARNING>:default_logger:You have not specified the i/o device of your model <class 'drl4dypm.agent.Critic'>, automatically determined and set to: cpu\n",
      "The framework is not responsible for any un-matching device issues caused by this operation.\u001b[0m\n"
     ]
    },
    {
     "name": "stdout",
     "output_type": "stream",
     "text": [
      "0           |25.5903     |25.5903     |0.0015      |0.1066      |6.7202      |6.7202      \n",
      "1           |25.3283     |25.4524     |0.0005      |0.1105      |6.7163      |13.4365     \n",
      "2           |25.5060     |25.4722     |0.0004      |0.1167      |6.5203      |19.9568     \n",
      "3           |25.1666     |25.3833     |0.0003      |0.1221      |6.4999      |26.4567     \n",
      "4           |25.3745     |25.3812     |0.0002      |0.1247      |6.5091      |32.9658     \n",
      "5           |25.2274     |25.3483     |0.0002      |0.1283      |6.5045      |39.4703     \n",
      "6           |25.1034     |25.3014     |0.0002      |0.1366      |6.4995      |45.9698     \n",
      "7           |25.6831     |25.3684     |0.0004      |0.1389      |6.4885      |52.4583     \n",
      "8           |25.6194     |25.4094     |0.0002      |0.1417      |6.5744      |59.0327     \n",
      "9           |25.5122     |25.4252     |0.0005      |0.1424      |6.5711      |65.6038     \n"
     ]
    }
   ],
   "source": [
    "reward_sm = 0\n",
    "critic_loss = []\n",
    "actor_loss = []\n",
    "\n",
    "actor_loss_i = np.inf\n",
    "critic_loss_i = np.inf\n",
    "\n",
    "elp = 0\n",
    "start_time = time.time()\n",
    "\n",
    "cols = ['episode','reward','reward_sm','critic_loss','actor_loss','elp','elp_sum']\n",
    "line = '|'.join([f'{col:<12}' for col in cols])\n",
    "print(line)\n",
    "\n",
    "\n",
    "for e in range(max_episode):\n",
    "    state, end = env.init_step()\n",
    "    last_actions = env.simulator.last_actions\n",
    "    \n",
    "    while not end:\n",
    "        with torch.no_grad():\n",
    "            # generate action\n",
    "            action = agent.get_action(torch.tensor(state[1], dtype=torch.float32).view(1,k,-1))\n",
    "        \n",
    "            # execute action and move to next step\n",
    "            actions = {'base': action.numpy().reshape(-1)}\n",
    "            rewards, next_state, end = env.take_step(actions, state[0])\n",
    "            \n",
    "            # store experience\n",
    "            agent.store_transition({\n",
    "                'state': {'state': torch.tensor(state[1], dtype=torch.float32).view(1,k,-1),\n",
    "                         'last_action': torch.tensor(last_actions['base'], dtype=torch.float32).view(1,-1)},\n",
    "                'action': {'action': torch.tensor(actions['base'], dtype=torch.float32).view(1,-1)},\n",
    "                'next_state': {'state': torch.tensor(next_state[1], dtype=torch.float32).view(1,k,-1),\n",
    "                              'last_action': torch.tensor(actions['base'], dtype=torch.float32).view(1,-1)},\n",
    "                'reward': rewards['base'],\n",
    "                'terminal': end\n",
    "            })\n",
    "            \n",
    "            \n",
    "        state = next_state\n",
    "        last_actions = actions\n",
    "        \n",
    "    # update ddpg\n",
    "    if e > min_episode_to_train:\n",
    "        actor_loss_i, critic_loss_i = agent.update(return_loss=True)\n",
    "        \n",
    "        \n",
    "    actor_loss.append(actor_loss_i)\n",
    "    critic_loss.append(critic_loss_i)\n",
    "    \n",
    "    rewards = env.get_total_rewards()\n",
    "    reward_sm = 0.9*reward_sm + 0.1*rewards['base']\n",
    "    reward_corr = reward_sm/(1-0.9**(e+1))\n",
    "    \n",
    "    \n",
    "    \n",
    "    if e%1 == 0:\n",
    "        elp_episode = time.time()-start_time\n",
    "        elp += elp_episode\n",
    "        start_time = time.time()\n",
    "        \n",
    "        line = f'{e:<12}|' + '|'.join([f'{col:<12.4f}' for col in [rewards['base'], reward_corr, \n",
    "                                                              critic_loss[-1], actor_loss[-1], \n",
    "                                                              elp_episode, elp]])\n",
    "        print(line)\n",
    "    \n",
    "    \n",
    "    # reset environment\n",
    "    env.reset()\n",
    "    \n",
    "        "
   ]
  },
  {
   "cell_type": "code",
   "execution_count": 13,
   "metadata": {},
   "outputs": [],
   "source": [
    "env.reset()\n",
    "state, end = env.init_step()\n",
    "last_action = np.append([1], np.zeros(7))"
   ]
  },
  {
   "cell_type": "code",
   "execution_count": 28,
   "metadata": {},
   "outputs": [
    {
     "data": {
      "text/plain": [
       "tensor([[0.1497, 0.1346, 0.0989, 0.1273, 0.1340, 0.1325, 0.1491, 0.1129]])"
      ]
     },
     "execution_count": 28,
     "metadata": {},
     "output_type": "execute_result"
    }
   ],
   "source": [
    "with torch.no_grad():\n",
    "    action = agent.get_action(torch.tensor(state[1], dtype=torch.float32).view(1,k,-1))\n",
    "    actions = {'base': action.numpy().reshape(-1)}\n",
    "action"
   ]
  },
  {
   "cell_type": "code",
   "execution_count": 29,
   "metadata": {},
   "outputs": [
    {
     "data": {
      "text/plain": [
       "0.00801006"
      ]
     },
     "execution_count": 29,
     "metadata": {},
     "output_type": "execute_result"
    }
   ],
   "source": [
    "np.linalg.norm(action-last_action, ord=1)"
   ]
  },
  {
   "cell_type": "code",
   "execution_count": 30,
   "metadata": {},
   "outputs": [
    {
     "data": {
      "text/plain": [
       "tensor([[0.1428]], grad_fn=<AddmmBackward>)"
      ]
     },
     "execution_count": 30,
     "metadata": {},
     "output_type": "execute_result"
    }
   ],
   "source": [
    "agent.ddpg_per.critic(torch.tensor(state[1], dtype=torch.float32).view(1,k,-1), action)"
   ]
  },
  {
   "cell_type": "code",
   "execution_count": 17,
   "metadata": {},
   "outputs": [
    {
     "data": {
      "text/plain": [
       "tensor([[[1.0044, 0.9967, 1.0029, 1.0019, 0.9975, 1.0056, 1.0259, 0.9997,\n",
       "          0.9887, 0.9977, 0.9956, 0.9851, 1.0019, 1.0205, 1.0163, 1.0006,\n",
       "          1.0053, 1.0052, 1.0059, 1.0069, 1.0336],\n",
       "         [0.9978, 1.0050, 1.0083, 1.0088, 1.0057, 1.0039, 1.0254, 0.9971,\n",
       "          0.9968, 1.0017, 1.0018, 0.9933, 1.0035, 1.0216, 1.0046, 1.0080,\n",
       "          1.0098, 1.0127, 1.0130, 1.0060, 1.0275],\n",
       "         [1.0038, 1.0026, 1.0074, 1.0088, 1.0023, 1.0014, 1.0244, 0.9974,\n",
       "          1.0011, 1.0068, 1.0071, 1.0019, 0.9993, 1.0219, 1.0064, 1.0078,\n",
       "          1.0117, 1.0138, 1.0121, 1.0048, 1.0272],\n",
       "         [1.0033, 1.0029, 1.0091, 1.0138, 1.0149, 1.0032, 1.0226, 1.0023,\n",
       "          1.0005, 1.0063, 1.0071, 0.9998, 1.0010, 1.0220, 1.0097, 1.0080,\n",
       "          1.0123, 1.0188, 1.0190, 1.0052, 1.0277],\n",
       "         [1.0038, 1.0017, 1.0104, 1.0138, 1.0156, 1.0022, 1.0211, 1.0028,\n",
       "          0.9972, 1.0078, 1.0086, 1.0100, 1.0006, 1.0198, 1.0098, 1.0041,\n",
       "          1.0122, 1.0156, 1.0177, 1.0049, 1.0252],\n",
       "         [1.0038, 1.0017, 1.0113, 1.0157, 1.0176, 1.0023, 1.0215, 0.9852,\n",
       "          0.9998, 1.0097, 1.0137, 1.0145, 1.0023, 1.0215, 1.0038, 1.0020,\n",
       "          1.0113, 1.0163, 1.0228, 1.0023, 1.0215],\n",
       "         [1.0051, 1.0055, 1.0064, 1.0071, 1.0239, 0.9933, 1.0156, 1.0036,\n",
       "          1.0043, 1.0048, 1.0062, 1.0019, 0.9888, 1.0102, 1.0115, 1.0150,\n",
       "          1.0160, 1.0215, 1.0410, 1.0027, 1.0254],\n",
       "         [1.0064, 1.0009, 1.0003, 0.9992, 1.0181, 0.9934, 1.0076, 0.9941,\n",
       "          0.9987, 1.0003, 0.9986, 1.0061, 0.9900, 1.0065, 1.0074, 1.0087,\n",
       "          1.0092, 1.0119, 1.0267, 0.9961, 1.0176],\n",
       "         [1.0046, 1.0080, 1.0033, 1.0070, 1.0072, 0.9987, 1.0036, 0.9987,\n",
       "          0.9968, 0.9973, 0.9955, 0.9958, 0.9917, 0.9975, 1.0084, 1.0093,\n",
       "          1.0041, 1.0077, 1.0181, 0.9989, 1.0075],\n",
       "         [1.0000, 1.0000, 1.0000, 1.0000, 1.0000, 1.0000, 1.0000, 1.0000,\n",
       "          1.0000, 0.9985, 0.9998, 0.9990, 0.9981, 0.9977, 1.0059, 1.0084,\n",
       "          1.0046, 1.0079, 1.0094, 1.0023, 1.0042]]])"
      ]
     },
     "execution_count": 17,
     "metadata": {},
     "output_type": "execute_result"
    }
   ],
   "source": [
    "self = agent.ddpg_per.critic\n",
    "state_ts = torch.tensor(state[1], dtype=torch.float32).view(1,k,-1)\n",
    "state_ts"
   ]
  },
  {
   "cell_type": "code",
   "execution_count": 52,
   "metadata": {},
   "outputs": [
    {
     "data": {
      "text/plain": [
       "9354"
      ]
     },
     "execution_count": 52,
     "metadata": {},
     "output_type": "execute_result"
    }
   ],
   "source": [
    "idx = pd.IndexSlice\n",
    "env.data_source.offset"
   ]
  },
  {
   "cell_type": "code",
   "execution_count": 53,
   "metadata": {},
   "outputs": [
    {
     "data": {
      "text/plain": [
       "dt                   ticker\n",
       "2020-03-26 12:00:00  FDX       116.8900\n",
       "2020-03-26 13:00:00  FDX       120.7101\n",
       "2020-03-26 14:00:00  FDX       123.0300\n",
       "2020-03-26 15:00:00  FDX       126.5600\n",
       "2020-03-26 16:00:00  FDX       125.0850\n",
       "2020-03-26 17:00:00  FDX       124.0900\n",
       "2020-03-26 18:00:00  FDX       123.5200\n",
       "2020-03-26 19:00:00  FDX       125.8100\n",
       "2020-03-26 20:00:00  FDX       125.6000\n",
       "2020-03-26 22:00:00  FDX       125.5000\n",
       "2020-03-27 11:00:00  FDX       122.0000\n",
       "2020-03-27 12:00:00  FDX       122.0000\n",
       "2020-03-27 13:00:00  FDX       118.1500\n",
       "2020-03-27 14:00:00  FDX       118.7978\n",
       "2020-03-27 15:00:00  FDX       119.1202\n",
       "2020-03-27 16:00:00  FDX       121.5700\n",
       "2020-03-27 17:00:00  FDX       122.1200\n",
       "2020-03-27 18:00:00  FDX       122.6201\n",
       "2020-03-27 19:00:00  FDX       120.8000\n",
       "2020-03-27 20:00:00  FDX       120.5900\n",
       "Name: close, dtype: float64"
      ]
     },
     "execution_count": 53,
     "metadata": {},
     "output_type": "execute_result"
    }
   ],
   "source": [
    "env.data_source.data.loc[idx[:,'FDX'],'close'][9354-10:9354+10]"
   ]
  },
  {
   "cell_type": "code",
   "execution_count": 31,
   "metadata": {},
   "outputs": [
    {
     "data": {
      "text/plain": [
       "tensor([[[0.9989, 1.0129, 1.0103, 1.0107, 1.0117, 1.0062, 1.0240, 0.9981,\n",
       "          1.0046, 1.0037, 1.0038, 0.9992, 1.0058, 1.0202, 1.0056, 1.0159,\n",
       "          1.0118, 1.0147, 1.0191, 1.0082, 1.0261],\n",
       "         [1.0049, 1.0105, 1.0094, 1.0108, 1.0083, 1.0037, 1.0230, 0.9985,\n",
       "          1.0089, 1.0088, 1.0091, 1.0079, 1.0015, 1.0205, 1.0074, 1.0156,\n",
       "          1.0137, 1.0157, 1.0182, 1.0070, 1.0258],\n",
       "         [1.0043, 1.0107, 1.0111, 1.0157, 1.0210, 1.0054, 1.0212, 1.0033,\n",
       "          1.0084, 1.0083, 1.0091, 1.0058, 1.0033, 1.0206, 1.0107, 1.0159,\n",
       "          1.0144, 1.0208, 1.0251, 1.0075, 1.0263],\n",
       "         [1.0049, 1.0095, 1.0124, 1.0157, 1.0217, 1.0044, 1.0198, 1.0038,\n",
       "          1.0050, 1.0099, 1.0105, 1.0161, 1.0028, 1.0185, 1.0109, 1.0119,\n",
       "          1.0142, 1.0176, 1.0238, 1.0072, 1.0238],\n",
       "         [1.0049, 1.0095, 1.0133, 1.0177, 1.0237, 1.0045, 1.0201, 0.9862,\n",
       "          1.0076, 1.0117, 1.0156, 1.0206, 1.0045, 1.0201, 1.0049, 1.0098,\n",
       "          1.0133, 1.0182, 1.0289, 1.0045, 1.0201],\n",
       "         [1.0061, 1.0134, 1.0084, 1.0091, 1.0301, 0.9956, 1.0143, 1.0046,\n",
       "          1.0121, 1.0068, 1.0081, 1.0079, 0.9911, 1.0088, 1.0125, 1.0229,\n",
       "          1.0181, 1.0235, 1.0472, 1.0049, 1.0240],\n",
       "         [1.0074, 1.0087, 1.0023, 1.0012, 1.0242, 0.9957, 1.0062, 0.9951,\n",
       "          1.0065, 1.0023, 1.0005, 1.0122, 0.9923, 1.0051, 1.0084, 1.0166,\n",
       "          1.0112, 1.0138, 1.0328, 0.9984, 1.0163],\n",
       "         [1.0056, 1.0158, 1.0053, 1.0090, 1.0132, 1.0009, 1.0022, 0.9997,\n",
       "          1.0046, 0.9993, 0.9974, 1.0018, 0.9939, 0.9962, 1.0095, 1.0172,\n",
       "          1.0061, 1.0097, 1.0242, 1.0011, 1.0061],\n",
       "         [1.0010, 1.0078, 1.0020, 1.0019, 1.0060, 1.0023, 0.9987, 1.0010,\n",
       "          1.0078, 1.0004, 1.0017, 1.0050, 1.0003, 0.9964, 1.0069, 1.0163,\n",
       "          1.0066, 1.0098, 1.0154, 1.0045, 1.0028],\n",
       "         [1.0000, 1.0000, 1.0000, 1.0000, 1.0000, 1.0000, 1.0000, 0.9985,\n",
       "          0.9988, 0.9984, 0.9968, 0.9974, 0.9971, 0.9979, 1.0028, 1.0093,\n",
       "          1.0033, 1.0031, 1.0084, 1.0028, 1.0005]]])"
      ]
     },
     "execution_count": 31,
     "metadata": {},
     "output_type": "execute_result"
    }
   ],
   "source": [
    "self = agent.ddpg_per.critic\n",
    "state_ts = torch.tensor(state[1], dtype=torch.float32).view(1,k,-1)\n",
    "state_ts"
   ]
  },
  {
   "cell_type": "code",
   "execution_count": 18,
   "metadata": {},
   "outputs": [
    {
     "data": {
      "text/plain": [
       "torch.Size([1, 10, 21])"
      ]
     },
     "execution_count": 18,
     "metadata": {},
     "output_type": "execute_result"
    }
   ],
   "source": [
    "state_ts.shape"
   ]
  },
  {
   "cell_type": "code",
   "execution_count": 19,
   "metadata": {},
   "outputs": [
    {
     "data": {
      "text/plain": [
       "tensor([[-1.8008e-03, -3.9315e-04,  1.9532e-03,  1.9065e-01,  2.6674e-01,\n",
       "          7.0241e-02,  1.7237e-01, -1.1533e-04, -3.3825e-03, -1.4523e-03,\n",
       "         -1.8059e-03,  7.9890e-02, -2.8541e-04, -2.7357e-03, -1.1382e-03,\n",
       "          8.4157e-02, -2.3289e-04,  1.8164e-01, -1.2404e-03,  9.1087e-02,\n",
       "         -4.5518e-04, -6.3736e-06,  5.0621e-02, -1.3169e-04,  4.9380e-02,\n",
       "         -4.3763e-04,  5.4467e-02, -5.4224e-04, -2.7168e-04, -9.2602e-05,\n",
       "         -7.4037e-04, -9.6772e-04,  8.0259e-02, -1.0069e-03,  7.3703e-04,\n",
       "         -8.2956e-04,  1.7887e-02,  6.2199e-02, -6.5438e-04, -4.8397e-04]],\n",
       "       grad_fn=<LeakyReluBackward0>)"
      ]
     },
     "execution_count": 19,
     "metadata": {},
     "output_type": "execute_result"
    }
   ],
   "source": [
    "a = self.leakyReLU(self.lstm(state_ts)[0][:,-1]) # LSTM output, last step\n",
    "a"
   ]
  },
  {
   "cell_type": "code",
   "execution_count": 32,
   "metadata": {},
   "outputs": [
    {
     "data": {
      "text/plain": [
       "tensor([[-1.7953e-03, -3.9280e-04,  2.2434e-03,  1.9114e-01,  2.6696e-01,\n",
       "          7.0026e-02,  1.7270e-01, -1.2132e-04, -3.3830e-03, -1.4507e-03,\n",
       "         -1.8024e-03,  7.9863e-02, -2.8394e-04, -2.7324e-03, -1.1395e-03,\n",
       "          8.4491e-02, -2.3261e-04,  1.8153e-01, -1.2408e-03,  9.1152e-02,\n",
       "         -4.5479e-04, -7.4371e-06,  5.0740e-02, -1.3227e-04,  4.9385e-02,\n",
       "         -4.3576e-04,  5.4504e-02, -5.4108e-04, -2.7224e-04, -9.2763e-05,\n",
       "         -7.4082e-04, -9.6914e-04,  8.0261e-02, -1.0079e-03,  6.6594e-04,\n",
       "         -8.2877e-04,  1.7953e-02,  6.2153e-02, -6.5385e-04, -4.8373e-04]],\n",
       "       grad_fn=<LeakyReluBackward0>)"
      ]
     },
     "execution_count": 32,
     "metadata": {},
     "output_type": "execute_result"
    }
   ],
   "source": [
    "a = self.leakyReLU(self.lstm(state_ts)[0][:,-1]) # LSTM output, last step\n",
    "a"
   ]
  },
  {
   "cell_type": "code",
   "execution_count": 20,
   "metadata": {},
   "outputs": [
    {
     "data": {
      "text/plain": [
       "tensor([[-1.8008e-03, -3.9315e-04,  1.9532e-03,  1.9065e-01,  2.6674e-01,\n",
       "          7.0241e-02,  1.7237e-01, -1.1533e-04, -3.3825e-03, -1.4523e-03,\n",
       "         -1.8059e-03,  7.9890e-02, -2.8541e-04, -2.7357e-03, -1.1382e-03,\n",
       "          8.4157e-02, -2.3289e-04,  1.8164e-01, -1.2404e-03,  9.1087e-02,\n",
       "         -4.5518e-04, -6.3736e-06,  5.0621e-02, -1.3169e-04,  4.9380e-02,\n",
       "         -4.3763e-04,  5.4467e-02, -5.4224e-04, -2.7168e-04, -9.2602e-05,\n",
       "         -7.4037e-04, -9.6772e-04,  8.0259e-02, -1.0069e-03,  7.3703e-04,\n",
       "         -8.2956e-04,  1.7887e-02,  6.2199e-02, -6.5438e-04, -4.8397e-04,\n",
       "          1.4773e-01,  1.3724e-01,  1.0691e-01,  1.2897e-01,  1.2916e-01,\n",
       "          1.3166e-01,  1.4449e-01,  1.0640e-01]], grad_fn=<CatBackward>)"
      ]
     },
     "execution_count": 20,
     "metadata": {},
     "output_type": "execute_result"
    }
   ],
   "source": [
    "a = torch.cat([a, action], dim=1)\n",
    "a"
   ]
  },
  {
   "cell_type": "code",
   "execution_count": 34,
   "metadata": {},
   "outputs": [
    {
     "data": {
      "text/plain": [
       "tensor([[-1.7953e-03, -3.9280e-04,  2.2434e-03,  1.9114e-01,  2.6696e-01,\n",
       "          7.0026e-02,  1.7270e-01, -1.2132e-04, -3.3830e-03, -1.4507e-03,\n",
       "         -1.8024e-03,  7.9863e-02, -2.8394e-04, -2.7324e-03, -1.1395e-03,\n",
       "          8.4491e-02, -2.3261e-04,  1.8153e-01, -1.2408e-03,  9.1152e-02,\n",
       "         -4.5479e-04, -7.4371e-06,  5.0740e-02, -1.3227e-04,  4.9385e-02,\n",
       "         -4.3576e-04,  5.4504e-02, -5.4108e-04, -2.7224e-04, -9.2763e-05,\n",
       "         -7.4082e-04, -9.6914e-04,  8.0261e-02, -1.0079e-03,  6.6594e-04,\n",
       "         -8.2877e-04,  1.7953e-02,  6.2153e-02, -6.5385e-04, -4.8373e-04,\n",
       "          1.4973e-01,  1.3459e-01,  9.8905e-02,  1.2728e-01,  1.3402e-01,\n",
       "          1.3251e-01,  1.4912e-01,  1.1294e-01]], grad_fn=<CatBackward>)"
      ]
     },
     "execution_count": 34,
     "metadata": {},
     "output_type": "execute_result"
    }
   ],
   "source": [
    "a = torch.cat([a, action], dim=1)\n",
    "a"
   ]
  },
  {
   "cell_type": "code",
   "execution_count": 21,
   "metadata": {},
   "outputs": [
    {
     "data": {
      "text/plain": [
       "tensor([[-0.0011, -0.0005,  0.0851, -0.0012,  0.1322, -0.0009,  0.0724,  0.2127,\n",
       "         -0.0020,  0.0133,  0.1118, -0.0007, -0.0008,  0.0880, -0.0006, -0.0008]],\n",
       "       grad_fn=<LeakyReluBackward0>)"
      ]
     },
     "execution_count": 21,
     "metadata": {},
     "output_type": "execute_result"
    }
   ],
   "source": [
    "n = len(self.fc)\n",
    "a = self.leakyReLU(self.fc[0](a))\n",
    "a = self.dropout(a) \n",
    "a"
   ]
  },
  {
   "cell_type": "code",
   "execution_count": 35,
   "metadata": {},
   "outputs": [
    {
     "data": {
      "text/plain": [
       "tensor([[-0.0011, -0.0005,  0.0845, -0.0013,  0.1324, -0.0009,  0.0725,  0.2107,\n",
       "         -0.0020,  0.0144,  0.1122, -0.0006, -0.0008,  0.0889, -0.0006, -0.0008]],\n",
       "       grad_fn=<LeakyReluBackward0>)"
      ]
     },
     "execution_count": 35,
     "metadata": {},
     "output_type": "execute_result"
    }
   ],
   "source": [
    "n = len(self.fc)\n",
    "a = self.leakyReLU(self.fc[0](a))\n",
    "a = self.dropout(a) \n",
    "a"
   ]
  },
  {
   "cell_type": "code",
   "execution_count": 22,
   "metadata": {},
   "outputs": [
    {
     "data": {
      "text/plain": [
       "tensor([[0.1427]], grad_fn=<AddmmBackward>)"
      ]
     },
     "execution_count": 22,
     "metadata": {},
     "output_type": "execute_result"
    }
   ],
   "source": [
    "for i in range(1,n-1):\n",
    "    a = self.leakyReLU(self.fc[i](a))\n",
    "\n",
    "a = self.fc[-1](a)\n",
    "a"
   ]
  },
  {
   "cell_type": "code",
   "execution_count": 36,
   "metadata": {},
   "outputs": [
    {
     "data": {
      "text/plain": [
       "tensor([[0.1428]], grad_fn=<AddmmBackward>)"
      ]
     },
     "execution_count": 36,
     "metadata": {},
     "output_type": "execute_result"
    }
   ],
   "source": [
    "for i in range(1,n-1):\n",
    "    a = self.leakyReLU(self.fc[i](a))\n",
    "\n",
    "a = self.fc[-1](a)\n",
    "a"
   ]
  },
  {
   "cell_type": "code",
   "execution_count": 37,
   "metadata": {},
   "outputs": [
    {
     "name": "stdout",
     "output_type": "stream",
     "text": [
      "0.9999590602028627 1.0301116002224473\n",
      "[  1.      39.62   529.93   701.61   104.11    33.6336  97.21   131.18  ]\n"
     ]
    }
   ],
   "source": [
    "# rewards, next_state, end = env.take_step(actions, state[0])\n",
    "rewards = take_step(env.simulator, actions, state[0])\n",
    "next_state, end = env.data_source.take_step()\n",
    "\n",
    "print(next_state[0])"
   ]
  },
  {
   "cell_type": "code",
   "execution_count": 38,
   "metadata": {},
   "outputs": [
    {
     "data": {
      "text/plain": [
       "5.106699999999925"
      ]
     },
     "execution_count": 38,
     "metadata": {},
     "output_type": "execute_result"
    }
   ],
   "source": [
    "np.linalg.norm(state[0]-next_state[0], ord=1)"
   ]
  },
  {
   "cell_type": "code",
   "execution_count": 27,
   "metadata": {},
   "outputs": [
    {
     "data": {
      "text/plain": [
       "2"
      ]
     },
     "execution_count": 27,
     "metadata": {},
     "output_type": "execute_result"
    }
   ],
   "source": [
    "state = copy.deepcopy(next_state)\n",
    "last_action = action\n",
    "\n",
    "env.data_source.step"
   ]
  },
  {
   "cell_type": "code",
   "execution_count": 141,
   "metadata": {},
   "outputs": [],
   "source": [
    "idx = pd.IndexSlice\n",
    "close = env.data_source.data.loc[idx[:,'GOOG'],'close']"
   ]
  },
  {
   "cell_type": "code",
   "execution_count": 142,
   "metadata": {},
   "outputs": [
    {
     "data": {
      "text/plain": [
       "dt                   ticker\n",
       "2015-12-31 15:00:00  GOOG      764.70\n",
       "2015-12-31 16:00:00  GOOG      767.05\n",
       "2015-12-31 17:00:00  GOOG      766.80\n",
       "2015-12-31 18:00:00  GOOG      765.51\n",
       "2015-12-31 19:00:00  GOOG      763.81\n",
       "2015-12-31 20:00:00  GOOG      759.11\n",
       "2015-12-31 21:00:00  GOOG      760.01\n",
       "2015-12-31 22:00:00  GOOG      760.23\n",
       "2016-01-04 13:00:00  GOOG      744.47\n",
       "2016-01-04 14:00:00  GOOG      740.70\n",
       "Name: close, dtype: float64"
      ]
     },
     "execution_count": 142,
     "metadata": {},
     "output_type": "execute_result"
    }
   ],
   "source": [
    "close[:10]"
   ]
  },
  {
   "cell_type": "code",
   "execution_count": 24,
   "metadata": {},
   "outputs": [],
   "source": [
    "def take_step(self, actions, prices):\n",
    "    \"\"\"\n",
    "    Compute reward based on each action, closing prices \n",
    "    and current portfolio weights\n",
    "\n",
    "    \"\"\"\n",
    "\n",
    "\n",
    "    rewards = {}\n",
    "    for name in self.agent_names:\n",
    "        if self.step == 0:\n",
    "            u_t = np.ones(1+self.num_assets)\t\t\t\t\t\t\t\t# relative price p(t)/p(t-1)\n",
    "        else:\n",
    "            u_t = prices/self.last_prices\n",
    "\n",
    "        w_t_head = self.last_actions[name]\n",
    "\n",
    "        temp = np.dot(u_t, w_t_head)\t\n",
    "        w_t_end = w_t_head * u_t / temp\t\t\t\t\t\t \t\t\t# portfolio weight at the end of step\n",
    "        c_t = self.cost_bps * np.linalg.norm(actions[name][1:]-w_t_end[1:], ord=1)\t\t# cost factor\n",
    "\n",
    "\n",
    "        print(1-c_t, temp)\n",
    "        rewards[name] = float(np.log(1-c_t) + np.log(temp))\n",
    "\n",
    "        self.total_rewards[name] += rewards[name]\n",
    "        self.last_actions[name] = actions[name]\n",
    "\n",
    "\n",
    "    self.step += 1\n",
    "    self.last_prices = prices\n",
    "\n",
    "    return rewards"
   ]
  },
  {
   "cell_type": "markdown",
   "metadata": {},
   "source": [
    "# IPM agent"
   ]
  },
  {
   "cell_type": "markdown",
   "metadata": {},
   "source": [
    "## setup"
   ]
  },
  {
   "cell_type": "code",
   "execution_count": 2,
   "metadata": {},
   "outputs": [],
   "source": [
    "# environment params\n",
    "trading_days = 252\n",
    "asset_names = ['AAPL','BC']\n",
    "k = 10\n",
    "cost_bps = 1e-3\n",
    "path_to_data = 'data/assets.h5'\n",
    "\n",
    "# agent params\n",
    "num_assets = len(asset_names)\n",
    "state_dim = 3*(1+num_assets)\n",
    "action_dim = 1+num_assets\n",
    "\n",
    "critic_learning_rate = 0.1**3\n",
    "actor_learning_rate = critic_learning_rate * 0.01\n",
    "\n",
    "network_params = {\n",
    "    'actor': {\n",
    "        'lstm': {\n",
    "            'hidden_dim': 20,\n",
    "            'num_layers': 1\n",
    "        },\n",
    "        'fc': [64,32],\n",
    "        'dropout': 0.5,\n",
    "    },\n",
    "    'critic': {\n",
    "        'lstm': {\n",
    "            'hidden_dim': 20,\n",
    "            'num_layers': 1\n",
    "        },\n",
    "        'fc': [64,32],\n",
    "        'dropout': 0.5,\n",
    "    }\n",
    "}\n",
    "\n",
    "# training params\n",
    "max_episode = 10\n",
    "min_episode_to_train = 5\n",
    "\n",
    "\n",
    "\n",
    "# IPM params\n",
    "ipm_params = {\n",
    "    'input_dim': 3*num_assets,\n",
    "    'learning_rate': 0.1**3,\n",
    "    'rnn_dim': 20,\n",
    "    'delay': 3,\n",
    "    'decay_rates': [0.1,0.2,0.5,0.8],\n",
    "    'noise_mean': 0.,\n",
    "    'noise_std': 0.01,\n",
    "    'filter_window_length': 5,\n",
    "    'filter_polyorder': 3\n",
    "}"
   ]
  },
  {
   "cell_type": "code",
   "execution_count": 3,
   "metadata": {},
   "outputs": [
    {
     "name": "stdout",
     "output_type": "stream",
     "text": [
      "Loading data from data/assets.h5 ...\n"
     ]
    }
   ],
   "source": [
    "# trading environment\n",
    "env = TradingEnvironment(num_steps=trading_days, \n",
    "                         asset_names=asset_names, \n",
    "                         k=k, \n",
    "                         cost_bps=cost_bps,\n",
    "                         agent_names=['ipm','crp'],\n",
    "                         path_to_data=path_to_data\n",
    "                        )"
   ]
  },
  {
   "cell_type": "code",
   "execution_count": 4,
   "metadata": {},
   "outputs": [
    {
     "name": "stderr",
     "output_type": "stream",
     "text": [
      "\u001b[33m[2021-03-06 13:27:08,885] <WARNING>:default_logger:The reduction property of criterion is not 'none', automatically corrected.\u001b[0m\n"
     ]
    }
   ],
   "source": [
    "# agent\n",
    "agent = RLAgent(state_dim,\n",
    "                action_dim,\n",
    "                network_params,\n",
    "                actor_learning_rate,\n",
    "                critic_learning_rate,\n",
    "                ipm_params=ipm_params\n",
    "               )"
   ]
  },
  {
   "cell_type": "code",
   "execution_count": 5,
   "metadata": {},
   "outputs": [],
   "source": [
    "agent_crp = CRPAgent(action_dim)"
   ]
  },
  {
   "cell_type": "markdown",
   "metadata": {},
   "source": [
    "## training"
   ]
  },
  {
   "cell_type": "code",
   "execution_count": 20,
   "metadata": {},
   "outputs": [],
   "source": [
    "env.reset()"
   ]
  },
  {
   "cell_type": "code",
   "execution_count": 6,
   "metadata": {},
   "outputs": [
    {
     "name": "stderr",
     "output_type": "stream",
     "text": [
      "\u001b[33m[2021-03-06 13:27:11,855] <WARNING>:default_logger:You have not specified the i/o device of your model <class 'drl4dypm.agent.Actor'>, automatically determined and set to: cpu\n",
      "The framework is not responsible for any un-matching device issues caused by this operation.\u001b[0m\n"
     ]
    },
    {
     "name": "stdout",
     "output_type": "stream",
     "text": [
      "episode         |reward          |reward_sm       |reward_crp      |reward_crp_sm   |elp             |elp_sum         \n",
      "0               |3.6223          |3.6223          |-0.0907         |-0.0907         |0.7395          |0.7395          \n",
      "1               |4.0367          |3.8404          |0.2999          |0.1149          |0.6602          |1.3996          \n",
      "2               |3.5456          |3.7316          |-0.2280         |-0.0117         |0.6332          |2.0328          \n",
      "3               |3.7927          |3.7494          |0.0091          |-0.0056         |0.6314          |2.6642          \n",
      "4               |3.8331          |3.7698          |0.0467          |0.0071          |0.6735          |3.3377          \n"
     ]
    },
    {
     "name": "stderr",
     "output_type": "stream",
     "text": [
      "\u001b[33m[2021-03-06 13:27:15,810] <WARNING>:default_logger:You have not specified the i/o device of your model <class 'drl4dypm.agent.Actor'>, automatically determined and set to: cpu\n",
      "The framework is not responsible for any un-matching device issues caused by this operation.\u001b[0m\n",
      "\u001b[33m[2021-03-06 13:27:15,819] <WARNING>:default_logger:You have not specified the i/o device of your model <class 'drl4dypm.agent.Critic'>, automatically determined and set to: cpu\n",
      "The framework is not responsible for any un-matching device issues caused by this operation.\u001b[0m\n",
      "\u001b[33m[2021-03-06 13:27:15,828] <WARNING>:default_logger:You have not specified the i/o device of your model <class 'drl4dypm.agent.Critic'>, automatically determined and set to: cpu\n",
      "The framework is not responsible for any un-matching device issues caused by this operation.\u001b[0m\n"
     ]
    },
    {
     "name": "stdout",
     "output_type": "stream",
     "text": [
      "5               |4.5168          |3.9292          |0.7791          |0.1719          |0.6327          |3.9704          \n",
      "6               |3.8646          |3.9169          |0.1888          |0.1751          |16.4985         |20.4689         \n",
      "7               |3.8718          |3.9089          |0.1761          |0.1753          |16.9472         |37.4161         \n",
      "8               |3.4547          |3.8348          |-0.4065         |0.0803          |16.6473         |54.0634         \n",
      "9               |4.2757          |3.9025          |0.5914          |0.1588          |16.8018         |70.8652         \n"
     ]
    }
   ],
   "source": [
    "reward_sm = 0\n",
    "reward_crp_sm = 0\n",
    "\n",
    "elp = 0\n",
    "start_time = time.time()\n",
    "\n",
    "cols = ['episode','reward','reward_sm','reward_crp','reward_crp_sm','elp','elp_sum']\n",
    "line = '|'.join([f'{col:<16}' for col in cols])\n",
    "print(line)\n",
    "\n",
    "\n",
    "for e in range(max_episode):\n",
    "    state, end = env.init_step()\n",
    "    \n",
    "    # get IPM prediction\n",
    "    ipm_predict = agent.ipm_predict_and_learn(state[-1])\n",
    "    \n",
    "    while not end:\n",
    "        with torch.no_grad():\n",
    "            # generate action \n",
    "            action = agent.get_action(torch.tensor(state[1], dtype=torch.float32).view(1,k,-1),\n",
    "                                     torch.tensor(ipm_predict, dtype=torch.float32).view(1,-1))\n",
    "            action_crp = agent_crp.get_action()\n",
    "        \n",
    "            # execute action and move to next step\n",
    "            actions = {'ipm': action.numpy().reshape(-1), 'crp': action_crp}\n",
    "            rewards, next_state, end = env.take_step(actions, state[0])\n",
    "            \n",
    "            # train IPM with next state and get next prediction\n",
    "            next_ipm_predict = agent.ipm_predict_and_learn(state[-1], next_state[-1])\n",
    "            \n",
    "            # store experience\n",
    "            agent.store_transition({\n",
    "                'state': {'state': torch.tensor(state[1], dtype=torch.float32).view(1,k,-1),\n",
    "                         'ipm': torch.tensor(ipm_predict, dtype=torch.float32).view(1,-1)},\n",
    "                'action': {'action': torch.tensor(actions['ipm'], dtype=torch.float32).view(1,-1)},\n",
    "                'next_state': {'state': torch.tensor(next_state[1], dtype=torch.float32).view(1,k,-1),\n",
    "                              'ipm': torch.tensor(next_ipm_predict, dtype=torch.float32).view(1,-1)},\n",
    "                'reward': rewards['ipm'],\n",
    "                'terminal': end\n",
    "            })\n",
    "            \n",
    "            \n",
    "        state = next_state\n",
    "        ipm_predict = next_ipm_predict\n",
    "        \n",
    "        # update ddpg\n",
    "        if e > min_episode_to_train:\n",
    "            agent.update()\n",
    "        \n",
    "    \n",
    "    rewards = env.get_total_rewards()\n",
    "    reward_sm = 0.9*reward_sm + 0.1*rewards['ipm']\n",
    "    reward_corr = reward_sm/(1-0.9**(e+1))\n",
    "    \n",
    "    reward_crp_sm = 0.9*reward_crp_sm + 0.1*rewards['crp']\n",
    "    reward_crp_corr = reward_crp_sm/(1-0.9**(e+1))\n",
    "    \n",
    "    \n",
    "    elp_episode = time.time()-start_time\n",
    "    elp += elp_episode\n",
    "    line = f'{e:<16}|' + '|'.join([f'{col:<16.4f}' for col in [rewards['ipm'], reward_corr, \n",
    "                                                          rewards['crp'], reward_crp_corr,\n",
    "                                                          elp_episode, elp]])\n",
    "    print(line)\n",
    "    \n",
    "    # reset environment\n",
    "    env.reset()\n",
    "    agent.ipm_init()\n",
    "    start_time = time.time()\n",
    "        "
   ]
  },
  {
   "cell_type": "markdown",
   "metadata": {},
   "source": [
    "# BCM agent"
   ]
  },
  {
   "cell_type": "markdown",
   "metadata": {},
   "source": [
    "## setup"
   ]
  },
  {
   "cell_type": "code",
   "execution_count": 2,
   "metadata": {},
   "outputs": [],
   "source": [
    "# environment params\n",
    "trading_days = 252\n",
    "asset_names = ['AAPL','BC']\n",
    "k = 10\n",
    "cost_bps = 1e-3\n",
    "path_to_data = 'data/assets.h5'\n",
    "\n",
    "# agent params\n",
    "num_assets = len(asset_names)\n",
    "state_dim = 3*(1+num_assets)\n",
    "action_dim = 1+num_assets\n",
    "\n",
    "critic_learning_rate = 0.1**3\n",
    "actor_learning_rate = critic_learning_rate * 0.01\n",
    "\n",
    "network_params = {\n",
    "    'actor': {\n",
    "        'lstm': {\n",
    "            'hidden_dim': 20,\n",
    "            'num_layers': 1\n",
    "        },\n",
    "        'fc': [64,32],\n",
    "        'dropout': 0.5,\n",
    "    },\n",
    "    'critic': {\n",
    "        'lstm': {\n",
    "            'hidden_dim': 20,\n",
    "            'num_layers': 1\n",
    "        },\n",
    "        'fc': [64,32],\n",
    "        'dropout': 0.5,\n",
    "    }\n",
    "}\n",
    "\n",
    "# training params\n",
    "max_episode = 10\n",
    "min_episode_to_train = 5\n",
    "\n",
    "\n",
    "\n",
    "# BCM params\n",
    "bcm_params = {\n",
    "    'cost_bps': cost_bps,\n",
    "    'update_rate': 0.1\n",
    "}"
   ]
  },
  {
   "cell_type": "code",
   "execution_count": 3,
   "metadata": {},
   "outputs": [
    {
     "name": "stdout",
     "output_type": "stream",
     "text": [
      "Loading data from data/assets.h5 ...\n"
     ]
    }
   ],
   "source": [
    "# trading environment\n",
    "env = TradingEnvironment(num_steps=trading_days, \n",
    "                         asset_names=asset_names, \n",
    "                         k=k, \n",
    "                         cost_bps=cost_bps,\n",
    "                         agent_names=['bcm','crp'],\n",
    "                         path_to_data=path_to_data\n",
    "                        )"
   ]
  },
  {
   "cell_type": "code",
   "execution_count": 4,
   "metadata": {},
   "outputs": [
    {
     "name": "stderr",
     "output_type": "stream",
     "text": [
      "\u001b[33m[2021-03-06 13:29:55,632] <WARNING>:default_logger:The reduction property of criterion is not 'none', automatically corrected.\u001b[0m\n"
     ]
    }
   ],
   "source": [
    "# agent\n",
    "agent = RLAgent(state_dim,\n",
    "                action_dim,\n",
    "                network_params,\n",
    "                actor_learning_rate,\n",
    "                critic_learning_rate,\n",
    "                bcm_params=bcm_params\n",
    "               )"
   ]
  },
  {
   "cell_type": "code",
   "execution_count": 5,
   "metadata": {},
   "outputs": [],
   "source": [
    "agent_crp = CRPAgent(action_dim)"
   ]
  },
  {
   "cell_type": "markdown",
   "metadata": {},
   "source": [
    "## training"
   ]
  },
  {
   "cell_type": "code",
   "execution_count": 20,
   "metadata": {},
   "outputs": [],
   "source": [
    "env.reset()"
   ]
  },
  {
   "cell_type": "code",
   "execution_count": 6,
   "metadata": {
    "scrolled": false
   },
   "outputs": [
    {
     "name": "stderr",
     "output_type": "stream",
     "text": [
      "\u001b[33m[2021-03-06 13:31:37,414] <WARNING>:default_logger:You have not specified the i/o device of your model <class 'drl4dypm.agent.Actor'>, automatically determined and set to: cpu\n",
      "The framework is not responsible for any un-matching device issues caused by this operation.\u001b[0m\n"
     ]
    },
    {
     "name": "stdout",
     "output_type": "stream",
     "text": [
      "episode         |reward          |reward_sm       |reward_crp      |reward_crp_sm   |elp             |elp_sum         \n",
      "0               |3.9709          |3.9709          |0.2315          |0.2315          |5.6652          |5.6652          \n",
      "1               |4.5873          |4.2953          |0.7921          |0.5266          |5.4692          |11.1345         \n",
      "2               |3.8065          |4.1150          |0.1746          |0.3967          |5.2680          |16.4025         \n",
      "3               |3.9632          |4.0708          |0.1484          |0.3245          |5.1348          |21.5372         \n",
      "4               |4.5715          |4.1931          |0.7561          |0.4299          |5.1537          |26.6910         \n"
     ]
    },
    {
     "name": "stderr",
     "output_type": "stream",
     "text": [
      "\u001b[33m[2021-03-06 13:32:09,242] <WARNING>:default_logger:You have not specified the i/o device of your model <class 'drl4dypm.agent.Actor'>, automatically determined and set to: cpu\n",
      "The framework is not responsible for any un-matching device issues caused by this operation.\u001b[0m\n",
      "\u001b[33m[2021-03-06 13:32:09,251] <WARNING>:default_logger:You have not specified the i/o device of your model <class 'drl4dypm.agent.Critic'>, automatically determined and set to: cpu\n",
      "The framework is not responsible for any un-matching device issues caused by this operation.\u001b[0m\n",
      "\u001b[33m[2021-03-06 13:32:09,260] <WARNING>:default_logger:You have not specified the i/o device of your model <class 'drl4dypm.agent.Critic'>, automatically determined and set to: cpu\n",
      "The framework is not responsible for any un-matching device issues caused by this operation.\u001b[0m\n"
     ]
    },
    {
     "name": "stdout",
     "output_type": "stream",
     "text": [
      "5               |3.7814          |4.1052          |0.1330          |0.3665          |5.1255          |31.8165         \n",
      "6               |4.0247          |4.0898          |0.3846          |0.3700          |20.2644         |52.0809         \n",
      "7               |4.0465          |4.0822          |0.2234          |0.3443          |20.3189         |72.3998         \n",
      "8               |3.9231          |4.0562          |0.1577          |0.3138          |20.7433         |93.1431         \n",
      "9               |3.7740          |4.0129          |-0.0829         |0.2529          |20.4591         |113.6022        \n"
     ]
    }
   ],
   "source": [
    "reward_sm = 0\n",
    "reward_crp_sm = 0\n",
    "\n",
    "elp = 0\n",
    "start_time = time.time()\n",
    "\n",
    "cols = ['episode','reward','reward_sm','reward_crp','reward_crp_sm','elp','elp_sum']\n",
    "line = '|'.join([f'{col:<16}' for col in cols])\n",
    "print(line)\n",
    "\n",
    "\n",
    "for e in range(max_episode):\n",
    "    state, end = env.init_step()\n",
    "    \n",
    "    \n",
    "    while not end:\n",
    "        with torch.no_grad():\n",
    "            # generate action \n",
    "            action = agent.get_action(torch.tensor(state[1], dtype=torch.float32).view(1,k,-1))\n",
    "            action_crp = agent_crp.get_action()\n",
    "        \n",
    "            # execute action and move to next step\n",
    "            actions = {'bcm': action.numpy().reshape(-1), 'crp': action_crp}\n",
    "            rewards, next_state, end = env.take_step(actions, state[0])\n",
    "            \n",
    "            # get CBM action\n",
    "            bcm_action = agent.get_bcm_action(state[0], next_state[0])\n",
    "            \n",
    "            # store experience\n",
    "            agent.store_transition({\n",
    "                'state': {'state': torch.tensor(state[1], dtype=torch.float32).view(1,k,-1)},\n",
    "                'action': {'action': torch.tensor(actions['bcm'], dtype=torch.float32).view(1,-1)},\n",
    "                'next_state': {'state': torch.tensor(next_state[1], dtype=torch.float32).view(1,k,-1)},\n",
    "                'reward': rewards['bcm'],\n",
    "                'terminal': end,\n",
    "                'bcm_action': torch.tensor(bcm_action)\n",
    "            })\n",
    "            \n",
    "        state = next_state\n",
    "        \n",
    "        # update ddpg\n",
    "        if e > min_episode_to_train:\n",
    "            agent.update()\n",
    "        \n",
    "    \n",
    "    rewards = env.get_total_rewards()\n",
    "    reward_sm = 0.9*reward_sm + 0.1*rewards['bcm']\n",
    "    reward_corr = reward_sm/(1-0.9**(e+1))\n",
    "    \n",
    "    reward_crp_sm = 0.9*reward_crp_sm + 0.1*rewards['crp']\n",
    "    reward_crp_corr = reward_crp_sm/(1-0.9**(e+1))\n",
    "    \n",
    "    \n",
    "    elp_episode = time.time()-start_time\n",
    "    elp += elp_episode\n",
    "    line = f'{e:<16}|' + '|'.join([f'{col:<16.4f}' for col in [rewards['bcm'], reward_corr, \n",
    "                                                          rewards['crp'], reward_crp_corr,\n",
    "                                                          elp_episode, elp]])\n",
    "    print(line)\n",
    "    \n",
    "    # reset environment\n",
    "    env.reset()\n",
    "    start_time = time.time()\n",
    "        "
   ]
  },
  {
   "cell_type": "markdown",
   "metadata": {},
   "source": [
    "# Full agent"
   ]
  },
  {
   "cell_type": "markdown",
   "metadata": {},
   "source": [
    "## setup"
   ]
  },
  {
   "cell_type": "code",
   "execution_count": 7,
   "metadata": {},
   "outputs": [],
   "source": [
    "# environment params\n",
    "trading_days = 252\n",
    "asset_names = ['AAPL','BC']\n",
    "k = 10\n",
    "cost_bps = 1e-3\n",
    "path_to_data = 'data/assets.h5'\n",
    "\n",
    "# agent params\n",
    "num_assets = len(asset_names)\n",
    "state_dim = 3*(1+num_assets)\n",
    "action_dim = 1+num_assets\n",
    "\n",
    "critic_learning_rate = 0.1**3\n",
    "actor_learning_rate = critic_learning_rate * 0.01\n",
    "\n",
    "network_params = {\n",
    "    'actor': {\n",
    "        'lstm': {\n",
    "            'hidden_dim': 20,\n",
    "            'num_layers': 1\n",
    "        },\n",
    "        'fc': [64,32],\n",
    "        'dropout': 0.5,\n",
    "    },\n",
    "    'critic': {\n",
    "        'lstm': {\n",
    "            'hidden_dim': 20,\n",
    "            'num_layers': 1\n",
    "        },\n",
    "        'fc': [64,32],\n",
    "        'dropout': 0.5,\n",
    "    }\n",
    "}\n",
    "\n",
    "# training params\n",
    "max_episode = 10\n",
    "min_episode_to_train = 5\n",
    "\n",
    "\n",
    "# IPM params\n",
    "ipm_params = {\n",
    "    'input_dim': 3*num_assets,\n",
    "    'learning_rate': 0.1**3,\n",
    "    'rnn_dim': 20,\n",
    "    'delay': 3,\n",
    "    'decay_rates': [0.1,0.2,0.5,0.8],\n",
    "    'noise_mean': 0.,\n",
    "    'noise_std': 0.01,\n",
    "    'filter_window_length': 5,\n",
    "    'filter_polyorder': 3\n",
    "}\n",
    "\n",
    "\n",
    "# BCM params\n",
    "bcm_params = {\n",
    "    'cost_bps': cost_bps,\n",
    "    'update_rate': 0.1\n",
    "}"
   ]
  },
  {
   "cell_type": "code",
   "execution_count": 8,
   "metadata": {},
   "outputs": [
    {
     "name": "stdout",
     "output_type": "stream",
     "text": [
      "Loading data from data/assets.h5 ...\n"
     ]
    }
   ],
   "source": [
    "# trading environment\n",
    "env = TradingEnvironment(num_steps=trading_days, \n",
    "                         asset_names=asset_names, \n",
    "                         k=k, \n",
    "                         cost_bps=cost_bps,\n",
    "                         agent_names=['full','crp'],\n",
    "                         path_to_data=path_to_data\n",
    "                        )"
   ]
  },
  {
   "cell_type": "code",
   "execution_count": 9,
   "metadata": {},
   "outputs": [
    {
     "name": "stderr",
     "output_type": "stream",
     "text": [
      "\u001b[33m[2021-03-06 13:34:43,746] <WARNING>:default_logger:The reduction property of criterion is not 'none', automatically corrected.\u001b[0m\n"
     ]
    }
   ],
   "source": [
    "# agent\n",
    "agent = RLAgent(state_dim,\n",
    "                action_dim,\n",
    "                network_params,\n",
    "                actor_learning_rate,\n",
    "                critic_learning_rate,\n",
    "                ipm_params=ipm_params,\n",
    "                bcm_params=bcm_params\n",
    "               )"
   ]
  },
  {
   "cell_type": "code",
   "execution_count": 5,
   "metadata": {},
   "outputs": [],
   "source": [
    "agent_crp = CRPAgent(action_dim)"
   ]
  },
  {
   "cell_type": "markdown",
   "metadata": {},
   "source": [
    "## training"
   ]
  },
  {
   "cell_type": "code",
   "execution_count": 20,
   "metadata": {},
   "outputs": [],
   "source": [
    "env.reset()"
   ]
  },
  {
   "cell_type": "code",
   "execution_count": 10,
   "metadata": {
    "scrolled": false
   },
   "outputs": [
    {
     "name": "stderr",
     "output_type": "stream",
     "text": [
      "\u001b[33m[2021-03-06 13:37:06,485] <WARNING>:default_logger:You have not specified the i/o device of your model <class 'drl4dypm.agent.Actor'>, automatically determined and set to: cpu\n",
      "The framework is not responsible for any un-matching device issues caused by this operation.\u001b[0m\n"
     ]
    },
    {
     "name": "stdout",
     "output_type": "stream",
     "text": [
      "episode         |reward          |reward_sm       |reward_crp      |reward_crp_sm   |elp             |elp_sum         \n",
      "0               |3.9111          |3.9111          |0.2326          |0.2326          |5.6019          |5.6019          \n",
      "1               |3.5326          |3.7119          |-0.1797         |0.0156          |5.1631          |10.7651         \n",
      "2               |3.8256          |3.7539          |0.1511          |0.0656          |5.1822          |15.9473         \n",
      "3               |4.0237          |3.8323          |0.2232          |0.1114          |5.1948          |21.1422         \n",
      "4               |4.3605          |3.9613          |0.4916          |0.2043          |5.3004          |26.4426         \n"
     ]
    },
    {
     "name": "stderr",
     "output_type": "stream",
     "text": [
      "\u001b[33m[2021-03-06 13:37:38,174] <WARNING>:default_logger:You have not specified the i/o device of your model <class 'drl4dypm.agent.Actor'>, automatically determined and set to: cpu\n",
      "The framework is not responsible for any un-matching device issues caused by this operation.\u001b[0m\n",
      "\u001b[33m[2021-03-06 13:37:38,187] <WARNING>:default_logger:You have not specified the i/o device of your model <class 'drl4dypm.agent.Critic'>, automatically determined and set to: cpu\n",
      "The framework is not responsible for any un-matching device issues caused by this operation.\u001b[0m\n",
      "\u001b[33m[2021-03-06 13:37:38,196] <WARNING>:default_logger:You have not specified the i/o device of your model <class 'drl4dypm.agent.Critic'>, automatically determined and set to: cpu\n",
      "The framework is not responsible for any un-matching device issues caused by this operation.\u001b[0m\n"
     ]
    },
    {
     "name": "stdout",
     "output_type": "stream",
     "text": [
      "5               |3.9713          |3.9635          |0.2037          |0.2041          |5.2629          |31.7055         \n",
      "6               |4.0501          |3.9801          |0.1868          |0.2008          |20.9443         |52.6498         \n",
      "7               |4.2871          |4.0340          |0.5176          |0.2564          |21.0891         |73.7389         \n",
      "8               |3.8365          |4.0017          |0.0794          |0.2275          |21.1238         |94.8626         \n",
      "9               |3.5975          |3.9397          |0.0290          |0.1970          |21.0476         |115.9102        \n"
     ]
    }
   ],
   "source": [
    "reward_sm = 0\n",
    "reward_crp_sm = 0\n",
    "\n",
    "elp = 0\n",
    "start_time = time.time()\n",
    "\n",
    "cols = ['episode','reward','reward_sm','reward_crp','reward_crp_sm','elp','elp_sum']\n",
    "line = '|'.join([f'{col:<16}' for col in cols])\n",
    "print(line)\n",
    "\n",
    "\n",
    "for e in range(max_episode):\n",
    "    state, end = env.init_step()\n",
    "    \n",
    "    # get IPM prediction\n",
    "    ipm_predict = agent.ipm_predict_and_learn(state[-1])\n",
    "    \n",
    "    while not end:\n",
    "        with torch.no_grad():\n",
    "            # generate action \n",
    "            action = agent.get_action(torch.tensor(state[1], dtype=torch.float32).view(1,k,-1),\n",
    "                                     torch.tensor(ipm_predict, dtype=torch.float32).view(1,-1))\n",
    "            action_crp = agent_crp.get_action()\n",
    "        \n",
    "            # execute action and move to next step\n",
    "            actions = {'full': action.numpy().reshape(-1), 'crp': action_crp}\n",
    "            rewards, next_state, end = env.take_step(actions, state[0])\n",
    "            \n",
    "            # train IPM with next state and get next prediction\n",
    "            next_ipm_predict = agent.ipm_predict_and_learn(state[-1], next_state[-1])\n",
    "            \n",
    "            # get CBM action\n",
    "            bcm_action = agent.get_bcm_action(state[0], next_state[0])\n",
    "            \n",
    "            # store experience\n",
    "            agent.store_transition({\n",
    "                'state': {'state': torch.tensor(state[1], dtype=torch.float32).view(1,k,-1),\n",
    "                         'ipm': torch.tensor(ipm_predict, dtype=torch.float32).view(1,-1)},\n",
    "                'action': {'action': torch.tensor(actions['full'], dtype=torch.float32).view(1,-1)},\n",
    "                'next_state': {'state': torch.tensor(next_state[1], dtype=torch.float32).view(1,k,-1),\n",
    "                              'ipm': torch.tensor(next_ipm_predict, dtype=torch.float32).view(1,-1)},\n",
    "                'reward': rewards['full'],\n",
    "                'terminal': end,\n",
    "                'bcm_action': torch.tensor(bcm_action)\n",
    "            })\n",
    "            \n",
    "        state = next_state\n",
    "        ipm_predict = next_ipm_predict\n",
    "        \n",
    "        \n",
    "        # update ddpg\n",
    "        if e > min_episode_to_train:\n",
    "            agent.update()\n",
    "        \n",
    "    \n",
    "    rewards = env.get_total_rewards()\n",
    "    reward_sm = 0.9*reward_sm + 0.1*rewards['full']\n",
    "    reward_corr = reward_sm/(1-0.9**(e+1))\n",
    "    \n",
    "    reward_crp_sm = 0.9*reward_crp_sm + 0.1*rewards['crp']\n",
    "    reward_crp_corr = reward_crp_sm/(1-0.9**(e+1))\n",
    "    \n",
    "    \n",
    "    elp_episode = time.time()-start_time\n",
    "    elp += elp_episode\n",
    "    line = f'{e:<16}|' + '|'.join([f'{col:<16.4f}' for col in [rewards['full'], reward_corr, \n",
    "                                                          rewards['crp'], reward_crp_corr,\n",
    "                                                          elp_episode, elp]])\n",
    "    print(line)\n",
    "    \n",
    "    # reset environment\n",
    "    env.reset()\n",
    "    agent.ipm_init()\n",
    "    start_time = time.time()\n",
    "        "
   ]
  },
  {
   "cell_type": "markdown",
   "metadata": {},
   "source": [
    "# All agents"
   ]
  },
  {
   "cell_type": "markdown",
   "metadata": {},
   "source": [
    "## setup"
   ]
  },
  {
   "cell_type": "code",
   "execution_count": 2,
   "metadata": {},
   "outputs": [],
   "source": [
    "# environment params\n",
    "trading_days = 252\n",
    "asset_names = ['AAPL','BC']\n",
    "k = 10\n",
    "cost_bps = 1e-3\n",
    "path_to_data = 'data/assets.h5'\n",
    "\n",
    "# agent params\n",
    "num_assets = len(asset_names)\n",
    "state_dim = 3*(1+num_assets)\n",
    "action_dim = 1+num_assets\n",
    "\n",
    "critic_learning_rate = 0.1**3\n",
    "actor_learning_rate = critic_learning_rate * 0.01\n",
    "\n",
    "network_params = {\n",
    "    'actor': {\n",
    "        'lstm': {\n",
    "            'hidden_dim': 20,\n",
    "            'num_layers': 1\n",
    "        },\n",
    "        'fc': [64,32],\n",
    "        'dropout': 0.5,\n",
    "    },\n",
    "    'critic': {\n",
    "        'lstm': {\n",
    "            'hidden_dim': 20,\n",
    "            'num_layers': 1\n",
    "        },\n",
    "        'fc': [64,32],\n",
    "        'dropout': 0.5,\n",
    "    }\n",
    "}\n",
    "\n",
    "# training params\n",
    "max_episode = 100\n",
    "min_episode_to_train = 5\n",
    "\n",
    "\n",
    "# IPM params\n",
    "ipm_params = {\n",
    "    'input_dim': 3*num_assets,\n",
    "    'learning_rate': 0.1**3,\n",
    "    'rnn_dim': 20,\n",
    "    'delay': 3,\n",
    "    'decay_rates': [0.1,0.2,0.5,0.8],\n",
    "    'spectral_radius': 0.95,\n",
    "    'sparsity': 0.5,\n",
    "    'noise_mean': 0.,\n",
    "    'noise_std': 0.01,\n",
    "    'filter_window_length': 5,\n",
    "    'filter_polyorder': 3\n",
    "}\n",
    "\n",
    "\n",
    "# BCM params\n",
    "bcm_params = {\n",
    "    'cost_bps': cost_bps,\n",
    "    'update_rate': 0.1\n",
    "}"
   ]
  },
  {
   "cell_type": "code",
   "execution_count": 3,
   "metadata": {},
   "outputs": [
    {
     "name": "stdout",
     "output_type": "stream",
     "text": [
      "Loading data from data/assets.h5 ...\n"
     ]
    }
   ],
   "source": [
    "# trading environment\n",
    "env = TradingEnvironment(num_steps=trading_days, \n",
    "                         asset_names=asset_names, \n",
    "                         k=k, \n",
    "                         cost_bps=cost_bps,\n",
    "                         agent_names=['base','ipm','bcm','full','crp'],\n",
    "                         path_to_data=path_to_data\n",
    "                        )"
   ]
  },
  {
   "cell_type": "code",
   "execution_count": 8,
   "metadata": {},
   "outputs": [
    {
     "name": "stderr",
     "output_type": "stream",
     "text": [
      "\u001b[33m[2021-03-06 14:09:18,052] <WARNING>:default_logger:The reduction property of criterion is not 'none', automatically corrected.\u001b[0m\n",
      "\u001b[33m[2021-03-06 14:09:18,090] <WARNING>:default_logger:The reduction property of criterion is not 'none', automatically corrected.\u001b[0m\n",
      "\u001b[33m[2021-03-06 14:09:18,114] <WARNING>:default_logger:The reduction property of criterion is not 'none', automatically corrected.\u001b[0m\n",
      "\u001b[33m[2021-03-06 14:09:18,121] <WARNING>:default_logger:The reduction property of criterion is not 'none', automatically corrected.\u001b[0m\n"
     ]
    }
   ],
   "source": [
    "# agent\n",
    "agent_base = RLAgent(state_dim,\n",
    "                action_dim,\n",
    "                network_params,\n",
    "                actor_learning_rate,\n",
    "                critic_learning_rate,\n",
    "               )\n",
    "\n",
    "agent_ipm = RLAgent(state_dim,\n",
    "                action_dim,\n",
    "                network_params,\n",
    "                actor_learning_rate,\n",
    "                critic_learning_rate,\n",
    "                ipm_params=ipm_params\n",
    "               )\n",
    "\n",
    "agent_bcm = RLAgent(state_dim,\n",
    "                action_dim,\n",
    "                network_params,\n",
    "                actor_learning_rate,\n",
    "                critic_learning_rate,\n",
    "                bcm_params=bcm_params\n",
    "               )\n",
    "\n",
    "agent_full = RLAgent(state_dim,\n",
    "                action_dim,\n",
    "                network_params,\n",
    "                actor_learning_rate,\n",
    "                critic_learning_rate,\n",
    "                ipm_params=ipm_params,\n",
    "                bcm_params=bcm_params\n",
    "               )"
   ]
  },
  {
   "cell_type": "code",
   "execution_count": 5,
   "metadata": {},
   "outputs": [],
   "source": [
    "agent_crp = CRPAgent(action_dim)"
   ]
  },
  {
   "cell_type": "markdown",
   "metadata": {},
   "source": [
    "## training"
   ]
  },
  {
   "cell_type": "code",
   "execution_count": 9,
   "metadata": {},
   "outputs": [],
   "source": [
    "env.reset()"
   ]
  },
  {
   "cell_type": "code",
   "execution_count": 10,
   "metadata": {},
   "outputs": [
    {
     "name": "stderr",
     "output_type": "stream",
     "text": [
      "\u001b[33m[2021-03-06 14:09:22,396] <WARNING>:default_logger:You have not specified the i/o device of your model <class 'drl4dypm.agent.Actor'>, automatically determined and set to: cpu\n",
      "The framework is not responsible for any un-matching device issues caused by this operation.\u001b[0m\n",
      "\u001b[33m[2021-03-06 14:09:22,399] <WARNING>:default_logger:You have not specified the i/o device of your model <class 'drl4dypm.agent.Actor'>, automatically determined and set to: cpu\n",
      "The framework is not responsible for any un-matching device issues caused by this operation.\u001b[0m\n"
     ]
    },
    {
     "name": "stdout",
     "output_type": "stream",
     "text": [
      "episode     |reward_base |reward_ipm  |reward_bcm  |reward_full |reward_crp  |elp         |elp_sum     \n",
      "0           |3.2353      |3.6147      |3.4147      |3.3664      |-0.3219     |10.9028     |10.9028     \n",
      "1           |3.6310      |3.6519      |3.5885      |3.6371      |-0.1580     |10.5552     |21.4581     \n",
      "2           |3.6650      |3.6839      |3.5882      |3.6653      |-0.1130     |10.6718     |32.1299     \n",
      "3           |3.6881      |3.6774      |3.6298      |3.6940      |-0.0831     |10.5945     |42.7244     \n",
      "4           |3.8270      |3.7884      |3.7776      |3.8386      |0.0641      |10.6171     |53.3415     \n"
     ]
    },
    {
     "name": "stderr",
     "output_type": "stream",
     "text": [
      "\u001b[33m[2021-03-06 14:10:26,383] <WARNING>:default_logger:You have not specified the i/o device of your model <class 'drl4dypm.agent.Actor'>, automatically determined and set to: cpu\n",
      "The framework is not responsible for any un-matching device issues caused by this operation.\u001b[0m\n",
      "\u001b[33m[2021-03-06 14:10:26,392] <WARNING>:default_logger:You have not specified the i/o device of your model <class 'drl4dypm.agent.Critic'>, automatically determined and set to: cpu\n",
      "The framework is not responsible for any un-matching device issues caused by this operation.\u001b[0m\n",
      "\u001b[33m[2021-03-06 14:10:26,400] <WARNING>:default_logger:You have not specified the i/o device of your model <class 'drl4dypm.agent.Critic'>, automatically determined and set to: cpu\n",
      "The framework is not responsible for any un-matching device issues caused by this operation.\u001b[0m\n",
      "\u001b[33m[2021-03-06 14:10:26,468] <WARNING>:default_logger:You have not specified the i/o device of your model <class 'drl4dypm.agent.Actor'>, automatically determined and set to: cpu\n",
      "The framework is not responsible for any un-matching device issues caused by this operation.\u001b[0m\n",
      "\u001b[33m[2021-03-06 14:10:26,476] <WARNING>:default_logger:You have not specified the i/o device of your model <class 'drl4dypm.agent.Critic'>, automatically determined and set to: cpu\n",
      "The framework is not responsible for any un-matching device issues caused by this operation.\u001b[0m\n",
      "\u001b[33m[2021-03-06 14:10:26,483] <WARNING>:default_logger:You have not specified the i/o device of your model <class 'drl4dypm.agent.Critic'>, automatically determined and set to: cpu\n",
      "The framework is not responsible for any un-matching device issues caused by this operation.\u001b[0m\n",
      "\u001b[33m[2021-03-06 14:10:26,502] <WARNING>:default_logger:You have not specified the i/o device of your model <class 'drl4dypm.agent.Actor'>, automatically determined and set to: cpu\n",
      "The framework is not responsible for any un-matching device issues caused by this operation.\u001b[0m\n"
     ]
    },
    {
     "name": "stdout",
     "output_type": "stream",
     "text": [
      "5           |3.9205      |3.8720      |3.8659      |3.9307      |0.1530      |10.6029     |63.9444     \n"
     ]
    },
    {
     "name": "stderr",
     "output_type": "stream",
     "text": [
      "\u001b[33m[2021-03-06 14:10:26,552] <WARNING>:default_logger:You have not specified the i/o device of your model <class 'drl4dypm.agent.Actor'>, automatically determined and set to: cpu\n",
      "The framework is not responsible for any un-matching device issues caused by this operation.\u001b[0m\n",
      "\u001b[33m[2021-03-06 14:10:26,562] <WARNING>:default_logger:You have not specified the i/o device of your model <class 'drl4dypm.agent.Critic'>, automatically determined and set to: cpu\n",
      "The framework is not responsible for any un-matching device issues caused by this operation.\u001b[0m\n",
      "\u001b[33m[2021-03-06 14:10:26,571] <WARNING>:default_logger:You have not specified the i/o device of your model <class 'drl4dypm.agent.Critic'>, automatically determined and set to: cpu\n",
      "The framework is not responsible for any un-matching device issues caused by this operation.\u001b[0m\n",
      "\u001b[33m[2021-03-06 14:10:26,590] <WARNING>:default_logger:You have not specified the i/o device of your model <class 'drl4dypm.agent.Actor'>, automatically determined and set to: cpu\n",
      "The framework is not responsible for any un-matching device issues caused by this operation.\u001b[0m\n",
      "\u001b[33m[2021-03-06 14:10:26,632] <WARNING>:default_logger:You have not specified the i/o device of your model <class 'drl4dypm.agent.Actor'>, automatically determined and set to: cpu\n",
      "The framework is not responsible for any un-matching device issues caused by this operation.\u001b[0m\n",
      "\u001b[33m[2021-03-06 14:10:26,639] <WARNING>:default_logger:You have not specified the i/o device of your model <class 'drl4dypm.agent.Critic'>, automatically determined and set to: cpu\n",
      "The framework is not responsible for any un-matching device issues caused by this operation.\u001b[0m\n",
      "\u001b[33m[2021-03-06 14:10:26,646] <WARNING>:default_logger:You have not specified the i/o device of your model <class 'drl4dypm.agent.Critic'>, automatically determined and set to: cpu\n",
      "The framework is not responsible for any un-matching device issues caused by this operation.\u001b[0m\n"
     ]
    },
    {
     "name": "stdout",
     "output_type": "stream",
     "text": [
      "6           |3.9847      |3.9265      |3.9534      |3.9831      |0.2192      |72.8340     |136.7784    \n",
      "7           |4.0165      |3.9468      |3.9698      |3.9976      |0.2506      |72.7440     |209.5224    \n",
      "8           |3.9780      |3.9409      |3.9399      |3.9831      |0.2186      |72.6906     |282.2129    \n",
      "9           |3.9350      |3.9322      |3.9268      |3.9647      |0.2178      |72.7065     |354.9195    \n",
      "10          |3.9121      |3.9178      |3.9172      |3.9534      |0.2149      |72.9951     |427.9145    \n",
      "11          |3.8917      |3.9184      |3.9115      |3.9529      |0.2045      |72.6129     |500.5274    \n",
      "12          |3.8640      |3.8811      |3.8837      |3.9125      |0.1681      |72.8281     |573.3555    \n",
      "13          |3.8325      |3.8674      |3.8346      |3.8992      |0.1413      |73.2643     |646.6198    \n",
      "14          |3.8328      |3.8655      |3.8425      |3.8895      |0.1428      |72.6871     |719.3068    \n",
      "15          |3.8283      |3.8416      |3.8290      |3.8631      |0.1249      |72.7062     |792.0131    \n",
      "16          |3.8460      |3.8753      |3.8536      |3.8943      |0.1509      |72.6370     |864.6501    \n",
      "17          |3.8652      |3.8852      |3.8517      |3.8848      |0.1575      |72.8120     |937.4621    \n",
      "18          |3.8613      |3.9236      |3.8464      |3.9121      |0.1799      |72.5203     |1009.9824   \n",
      "19          |3.8630      |3.9118      |3.8570      |3.9059      |0.1819      |72.9191     |1082.9014   \n",
      "20          |3.8819      |3.9502      |3.8813      |3.9325      |0.1966      |72.6164     |1155.5178   \n",
      "21          |3.8703      |3.9125      |3.8631      |3.8985      |0.1753      |72.6072     |1228.1250   \n",
      "22          |3.7784      |3.8512      |3.7578      |3.8366      |0.1075      |72.9545     |1301.0795   \n",
      "23          |3.7705      |3.8414      |3.7712      |3.8186      |0.0961      |73.4085     |1374.4880   \n",
      "24          |3.7898      |3.8453      |3.7876      |3.8317      |0.1084      |73.8118     |1448.2999   \n",
      "25          |3.7941      |3.8485      |3.7944      |3.8505      |0.1149      |72.6631     |1520.9629   \n",
      "26          |3.7616      |3.8558      |3.7693      |3.8386      |0.1095      |72.6886     |1593.6515   \n",
      "27          |3.6723      |3.8184      |3.6862      |3.8085      |0.0717      |73.0693     |1666.7208   \n",
      "28          |3.6967      |3.8117      |3.7089      |3.8022      |0.0657      |72.8088     |1739.5297   \n",
      "29          |3.7049      |3.8156      |3.7237      |3.8108      |0.0783      |72.3429     |1811.8725   \n",
      "30          |3.7118      |3.8118      |3.7221      |3.8281      |0.0840      |72.7000     |1884.5725   \n",
      "31          |3.6219      |3.7764      |3.6428      |3.7916      |0.0488      |72.6924     |1957.2649   \n",
      "32          |3.6453      |3.8173      |3.6606      |3.8183      |0.0698      |72.7266     |2029.9915   \n",
      "33          |3.6534      |3.8234      |3.6642      |3.8117      |0.0729      |72.9270     |2102.9184   \n",
      "34          |3.6906      |3.8263      |3.7009      |3.8299      |0.0843      |72.6433     |2175.5617   \n",
      "35          |3.7387      |3.8364      |3.7230      |3.8391      |0.0939      |73.0341     |2248.5958   \n",
      "36          |3.7308      |3.8335      |3.7217      |3.8310      |0.0868      |72.4463     |2321.0422   \n",
      "37          |3.7067      |3.8301      |3.7075      |3.8342      |0.0847      |72.5643     |2393.6064   \n",
      "38          |3.6726      |3.8305      |3.6843      |3.8534      |0.0883      |72.8335     |2466.4399   \n",
      "39          |3.6846      |3.8382      |3.6984      |3.8640      |0.0985      |72.1562     |2538.5961   \n",
      "40          |3.7950      |3.8851      |3.8180      |3.9185      |0.1588      |72.7672     |2611.3633   \n",
      "41          |3.6239      |3.7901      |3.6173      |3.8153      |0.0672      |72.7092     |2684.0725   \n",
      "42          |3.6275      |3.7691      |3.6254      |3.8126      |0.0661      |72.7584     |2756.8309   \n",
      "43          |3.6302      |3.7389      |3.6406      |3.8025      |0.0470      |73.0758     |2829.9067   \n",
      "44          |3.6462      |3.7125      |3.6531      |3.7899      |0.0231      |72.9125     |2902.8192   \n",
      "45          |3.6469      |3.7040      |3.6569      |3.7823      |0.0160      |72.6054     |2975.4246   \n",
      "46          |3.6204      |3.6934      |3.6110      |3.7724      |0.0050      |72.5802     |3048.0048   \n",
      "47          |3.6366      |3.7015      |3.6169      |3.7813      |0.0121      |72.4810     |3120.4858   \n",
      "48          |3.6594      |3.7422      |3.6425      |3.8052      |0.0401      |72.6034     |3193.0891   \n",
      "49          |3.6650      |3.7482      |3.6427      |3.8112      |0.0423      |78.3123     |3271.4014   \n",
      "50          |3.6631      |3.7158      |3.6503      |3.7788      |0.0109      |73.0317     |3344.4331   \n",
      "51          |3.6866      |3.7024      |3.6648      |3.7554      |-0.0116     |72.8059     |3417.2391   \n",
      "52          |3.8291      |3.7892      |3.8144      |3.8388      |0.0653      |72.8706     |3490.1096   \n",
      "53          |3.8649      |3.7615      |3.8443      |3.8283      |0.0500      |72.5271     |3562.6367   \n",
      "54          |3.8830      |3.7836      |3.8435      |3.8299      |0.0683      |72.7721     |3635.4088   \n",
      "55          |3.8650      |3.7580      |3.8344      |3.7905      |0.0492      |72.7208     |3708.1296   \n",
      "56          |3.8559      |3.7494      |3.8207      |3.7876      |0.0399      |72.7064     |3780.8360   \n",
      "57          |3.9616      |3.8115      |3.9218      |3.8422      |0.1016      |72.6015     |3853.4375   \n",
      "58          |3.9887      |3.8034      |3.9300      |3.8429      |0.1016      |73.0479     |3926.4855   \n",
      "59          |3.9796      |3.8159      |3.9126      |3.8547      |0.1065      |72.4984     |3998.9839   \n",
      "60          |3.9460      |3.7952      |3.8806      |3.8296      |0.0842      |73.1272     |4072.1111   \n",
      "61          |3.8762      |3.7383      |3.8275      |3.7753      |0.0279      |72.9195     |4145.0306   \n",
      "62          |3.8656      |3.7834      |3.8221      |3.8181      |0.0653      |72.9086     |4217.9392   \n",
      "63          |3.8683      |3.7838      |3.8051      |3.8284      |0.0783      |72.8890     |4290.8281   \n",
      "64          |3.8472      |3.8144      |3.7911      |3.8566      |0.1082      |72.9726     |4363.8007   \n",
      "65          |3.8412      |3.7950      |3.7843      |3.8278      |0.0840      |72.7727     |4436.5734   \n",
      "66          |3.8324      |3.8009      |3.7914      |3.8302      |0.0899      |72.8450     |4509.4183   \n",
      "67          |3.8183      |3.7911      |3.7854      |3.8035      |0.0678      |73.3520     |4582.7703   \n",
      "68          |3.8139      |3.7983      |3.7820      |3.7874      |0.0591      |73.1788     |4655.9491   \n",
      "69          |3.8089      |3.7722      |3.7744      |3.7540      |0.0299      |72.8606     |4728.8097   \n",
      "70          |3.8110      |3.8035      |3.7825      |3.7691      |0.0528      |72.6999     |4801.5096   \n",
      "71          |3.8100      |3.8232      |3.7921      |3.7832      |0.0791      |72.6789     |4874.1885   \n",
      "72          |3.8112      |3.8439      |3.8074      |3.8007      |0.0933      |73.3080     |4947.4965   \n",
      "73          |3.8201      |3.8763      |3.8090      |3.8363      |0.1235      |73.2008     |5020.6973   \n",
      "74          |3.8107      |3.8580      |3.8002      |3.8301      |0.1159      |74.3608     |5095.0581   \n",
      "75          |3.7624      |3.8005      |3.7569      |3.7694      |0.0594      |72.8950     |5167.9531   \n",
      "76          |3.7546      |3.8057      |3.7646      |3.7636      |0.0655      |72.8507     |5240.8038   \n",
      "77          |3.7783      |3.8292      |3.7848      |3.8040      |0.0957      |72.8046     |5313.6083   \n",
      "78          |3.7839      |3.8174      |3.7911      |3.8131      |0.1021      |72.7702     |5386.3785   \n",
      "79          |3.8055      |3.8862      |3.8230      |3.8772      |0.1645      |72.8701     |5459.2486   \n",
      "80          |3.8030      |3.8469      |3.8113      |3.8409      |0.1359      |72.6724     |5531.9210   \n",
      "81          |3.7911      |3.8572      |3.7994      |3.8503      |0.1421      |72.8010     |5604.7220   \n",
      "82          |3.8031      |3.9078      |3.8196      |3.9092      |0.1975      |72.8560     |5677.5780   \n",
      "83          |3.7986      |3.9048      |3.8164      |3.9076      |0.1960      |72.8312     |5750.4092   \n",
      "84          |3.8323      |3.9599      |3.8451      |3.9668      |0.2578      |72.8563     |5823.2655   \n"
     ]
    },
    {
     "name": "stdout",
     "output_type": "stream",
     "text": [
      "85          |3.8341      |3.9464      |3.8410      |3.9674      |0.2480      |72.6658     |5895.9314   \n",
      "86          |3.8242      |3.9612      |3.8456      |3.9938      |0.2603      |72.6253     |5968.5567   \n",
      "87          |3.8115      |3.9528      |3.8258      |3.9819      |0.2545      |72.3700     |6040.9267   \n",
      "88          |3.8093      |3.9500      |3.8096      |3.9749      |0.2446      |72.7093     |6113.6360   \n",
      "89          |3.7808      |3.9230      |3.8005      |3.9505      |0.2183      |72.6972     |6186.3332   \n",
      "90          |3.7694      |3.8997      |3.7910      |3.9213      |0.1895      |72.6110     |6258.9442   \n",
      "91          |3.7715      |3.9321      |3.8173      |3.9338      |0.2040      |72.9025     |6331.8467   \n",
      "92          |3.7675      |3.9115      |3.7988      |3.9298      |0.1933      |72.8563     |6404.7030   \n",
      "93          |3.7635      |3.9151      |3.7912      |3.9333      |0.2019      |72.8483     |6477.5513   \n",
      "94          |3.7602      |3.9025      |3.8030      |3.9204      |0.1913      |72.8006     |6550.3519   \n",
      "95          |3.7650      |3.8934      |3.8092      |3.9097      |0.1781      |72.9597     |6623.3116   \n",
      "96          |3.7708      |3.8909      |3.8160      |3.9228      |0.1828      |72.6741     |6695.9857   \n",
      "97          |3.7738      |3.9093      |3.8106      |3.9303      |0.1854      |72.6771     |6768.6629   \n",
      "98          |3.7647      |3.8769      |3.8165      |3.8869      |0.1461      |72.8567     |6841.5196   \n",
      "99          |3.7654      |3.8884      |3.7949      |3.8912      |0.1461      |72.6564     |6914.1760   \n"
     ]
    }
   ],
   "source": [
    "reward_base = 0\n",
    "reward_ipm = 0\n",
    "reward_bcm = 0\n",
    "reward_full = 0\n",
    "reward_crp = 0\n",
    "\n",
    "elp = 0\n",
    "start_time = time.time()\n",
    "\n",
    "cols = ['episode','reward_base','reward_ipm','reward_bcm','reward_full','reward_crp',\n",
    "        'elp','elp_sum']\n",
    "line = '|'.join([f'{col:<12}' for col in cols])\n",
    "print(line)\n",
    "\n",
    "\n",
    "for e in range(max_episode):\n",
    "    state, end = env.init_step()\n",
    "    \n",
    "    # get IPM prediction\n",
    "    ipm_predict_ipm = agent_ipm.ipm_predict_and_learn(state[-1])\n",
    "    ipm_predict_full = agent_full.ipm_predict_and_learn(state[-1])\n",
    "    \n",
    "    while not end:\n",
    "        with torch.no_grad():\n",
    "            # generate action \n",
    "            action_base = agent_base.get_action(torch.tensor(state[1], dtype=torch.float32).view(1,k,-1))\n",
    "            action_ipm = agent_full.get_action(torch.tensor(state[1], dtype=torch.float32).view(1,k,-1),\n",
    "                                     torch.tensor(ipm_predict_ipm, dtype=torch.float32).view(1,-1))\n",
    "            action_bcm = agent_base.get_action(torch.tensor(state[1], dtype=torch.float32).view(1,k,-1))\n",
    "            action_full = agent_full.get_action(torch.tensor(state[1], dtype=torch.float32).view(1,k,-1),\n",
    "                                     torch.tensor(ipm_predict_full, dtype=torch.float32).view(1,-1))\n",
    "            action_crp = agent_crp.get_action()\n",
    "        \n",
    "            # execute action and move to next step\n",
    "            actions = {\n",
    "                'base': action_base.numpy().reshape(-1),\n",
    "                'ipm': action_ipm.numpy().reshape(-1),\n",
    "                'bcm': action_bcm.numpy().reshape(-1),\n",
    "                'full': action_full.numpy().reshape(-1), \n",
    "                'crp': action_crp}\n",
    "            \n",
    "            rewards, next_state, end = env.take_step(actions, state[0])\n",
    "            \n",
    "            # train IPM with next state and get next prediction\n",
    "            next_ipm_predict_ipm = agent_ipm.ipm_predict_and_learn(state[-1], next_state[-1])\n",
    "            next_ipm_predict_full = agent_full.ipm_predict_and_learn(state[-1], next_state[-1])\n",
    "            \n",
    "            # get CBM action\n",
    "            bcm_action_bcm = agent_bcm.get_bcm_action(state[0], next_state[0])\n",
    "            bcm_action_full = agent_full.get_bcm_action(state[0], next_state[0])\n",
    "            \n",
    "            # store experience\n",
    "            agent_base.store_transition({\n",
    "                'state': {'state': torch.tensor(state[1], dtype=torch.float32).view(1,k,-1)},\n",
    "                'action': {'action': torch.tensor(actions['base'], dtype=torch.float32).view(1,-1)},\n",
    "                'next_state': {'state': torch.tensor(next_state[1], dtype=torch.float32).view(1,k,-1)},\n",
    "                'reward': rewards['base'],\n",
    "                'terminal': end\n",
    "            })\n",
    "            \n",
    "            \n",
    "            agent_ipm.store_transition({\n",
    "                'state': {'state': torch.tensor(state[1], dtype=torch.float32).view(1,k,-1),\n",
    "                         'ipm': torch.tensor(ipm_predict_ipm, dtype=torch.float32).view(1,-1)},\n",
    "                'action': {'action': torch.tensor(actions['ipm'], dtype=torch.float32).view(1,-1)},\n",
    "                'next_state': {'state': torch.tensor(next_state[1], dtype=torch.float32).view(1,k,-1),\n",
    "                              'ipm': torch.tensor(next_ipm_predict_ipm, dtype=torch.float32).view(1,-1)},\n",
    "                'reward': rewards['ipm'],\n",
    "                'terminal': end\n",
    "            })\n",
    "            \n",
    "            \n",
    "            agent_bcm.store_transition({\n",
    "                'state': {'state': torch.tensor(state[1], dtype=torch.float32).view(1,k,-1)},\n",
    "                'action': {'action': torch.tensor(actions['bcm'], dtype=torch.float32).view(1,-1)},\n",
    "                'next_state': {'state': torch.tensor(next_state[1], dtype=torch.float32).view(1,k,-1)},\n",
    "                'reward': rewards['bcm'],\n",
    "                'terminal': end,\n",
    "                'bcm_action': torch.tensor(bcm_action_bcm)\n",
    "            })\n",
    "            \n",
    "            \n",
    "            agent_full.store_transition({\n",
    "                'state': {'state': torch.tensor(state[1], dtype=torch.float32).view(1,k,-1),\n",
    "                         'ipm': torch.tensor(ipm_predict_full, dtype=torch.float32).view(1,-1)},\n",
    "                'action': {'action': torch.tensor(actions['full'], dtype=torch.float32).view(1,-1)},\n",
    "                'next_state': {'state': torch.tensor(next_state[1], dtype=torch.float32).view(1,k,-1),\n",
    "                              'ipm': torch.tensor(next_ipm_predict_full, dtype=torch.float32).view(1,-1)},\n",
    "                'reward': rewards['full'],\n",
    "                'terminal': end,\n",
    "                'bcm_action': torch.tensor(bcm_action_full)\n",
    "            })\n",
    "            \n",
    "        state = next_state\n",
    "        ipm_predict_ipm = next_ipm_predict_ipm\n",
    "        ipm_predict_full = next_ipm_predict_full\n",
    "        \n",
    "        \n",
    "        # update ddpg\n",
    "        if e > min_episode_to_train:\n",
    "            agent_base.update()\n",
    "            agent_ipm.update()\n",
    "            agent_bcm.update()\n",
    "            agent_full.update()\n",
    "        \n",
    "    \n",
    "    rewards = env.get_total_rewards()\n",
    "    \n",
    "    reward_base = 0.9*reward_base + 0.1*rewards['base']\n",
    "    reward_base_corr = reward_base/(1-0.9**(e+1))\n",
    "    \n",
    "    reward_ipm = 0.9*reward_ipm + 0.1*rewards['ipm']\n",
    "    reward_ipm_corr = reward_ipm/(1-0.9**(e+1))\n",
    "    \n",
    "    reward_bcm = 0.9*reward_bcm + 0.1*rewards['bcm']\n",
    "    reward_bcm_corr = reward_bcm/(1-0.9**(e+1))\n",
    "    \n",
    "    reward_full = 0.9*reward_full + 0.1*rewards['full']\n",
    "    reward_full_corr = reward_full/(1-0.9**(e+1))\n",
    "    \n",
    "    reward_crp = 0.9*reward_crp + 0.1*rewards['crp']\n",
    "    reward_crp_corr = reward_crp/(1-0.9**(e+1))\n",
    "    \n",
    "    \n",
    "    elp_episode = time.time()-start_time\n",
    "    elp += elp_episode\n",
    "    line = f'{e:<12}|' + '|'.join([f'{col:<12.4f}' for col in [reward_base_corr, reward_ipm_corr, reward_bcm_corr,\n",
    "                                                          reward_full_corr, reward_crp_corr,\n",
    "                                                          elp_episode, elp]])\n",
    "    print(line)\n",
    "    \n",
    "    # reset environment\n",
    "    env.reset()\n",
    "    agent_ipm.ipm_init()\n",
    "    agent_full.ipm_init()\n",
    "    \n",
    "    start_time = time.time()\n",
    "        "
   ]
  },
  {
   "cell_type": "markdown",
   "metadata": {},
   "source": [
    "# Diagnostics"
   ]
  },
  {
   "cell_type": "markdown",
   "metadata": {},
   "source": [
    "## raw asset price"
   ]
  },
  {
   "cell_type": "code",
   "execution_count": 39,
   "metadata": {},
   "outputs": [
    {
     "data": {
      "text/html": [
       "<div>\n",
       "<style scoped>\n",
       "    .dataframe tbody tr th:only-of-type {\n",
       "        vertical-align: middle;\n",
       "    }\n",
       "\n",
       "    .dataframe tbody tr th {\n",
       "        vertical-align: top;\n",
       "    }\n",
       "\n",
       "    .dataframe thead th {\n",
       "        text-align: right;\n",
       "    }\n",
       "</style>\n",
       "<table border=\"1\" class=\"dataframe\">\n",
       "  <thead>\n",
       "    <tr style=\"text-align: right;\">\n",
       "      <th></th>\n",
       "      <th></th>\n",
       "      <th>close</th>\n",
       "      <th>low</th>\n",
       "      <th>high</th>\n",
       "    </tr>\n",
       "    <tr>\n",
       "      <th>date</th>\n",
       "      <th>ticker</th>\n",
       "      <th></th>\n",
       "      <th></th>\n",
       "      <th></th>\n",
       "    </tr>\n",
       "  </thead>\n",
       "  <tbody>\n",
       "    <tr>\n",
       "      <th rowspan=\"2\" valign=\"top\">2000-01-14</th>\n",
       "      <th>AAPL</th>\n",
       "      <td>3.226985</td>\n",
       "      <td>3.192607</td>\n",
       "      <td>3.285138</td>\n",
       "    </tr>\n",
       "    <tr>\n",
       "      <th>BC</th>\n",
       "      <td>16.524274</td>\n",
       "      <td>16.330418</td>\n",
       "      <td>16.718130</td>\n",
       "    </tr>\n",
       "    <tr>\n",
       "      <th rowspan=\"2\" valign=\"top\">2000-01-18</th>\n",
       "      <th>AAPL</th>\n",
       "      <td>3.339435</td>\n",
       "      <td>3.226985</td>\n",
       "      <td>3.405619</td>\n",
       "    </tr>\n",
       "    <tr>\n",
       "      <th>BC</th>\n",
       "      <td>16.625079</td>\n",
       "      <td>15.803130</td>\n",
       "      <td>16.671604</td>\n",
       "    </tr>\n",
       "    <tr>\n",
       "      <th>2000-01-19</th>\n",
       "      <th>AAPL</th>\n",
       "      <td>3.423611</td>\n",
       "      <td>3.321121</td>\n",
       "      <td>3.493973</td>\n",
       "    </tr>\n",
       "  </tbody>\n",
       "</table>\n",
       "</div>"
      ],
      "text/plain": [
       "                       close        low       high\n",
       "date       ticker                                 \n",
       "2000-01-14 AAPL     3.226985   3.192607   3.285138\n",
       "           BC      16.524274  16.330418  16.718130\n",
       "2000-01-18 AAPL     3.339435   3.226985   3.405619\n",
       "           BC      16.625079  15.803130  16.671604\n",
       "2000-01-19 AAPL     3.423611   3.321121   3.493973"
      ]
     },
     "execution_count": 39,
     "metadata": {},
     "output_type": "execute_result"
    }
   ],
   "source": [
    "env.data_source.data.head()"
   ]
  },
  {
   "cell_type": "code",
   "execution_count": 46,
   "metadata": {},
   "outputs": [
    {
     "data": {
      "text/plain": [
       "<matplotlib.legend.Legend at 0x7f94aac4e6d0>"
      ]
     },
     "execution_count": 46,
     "metadata": {},
     "output_type": "execute_result"
    },
    {
     "data": {
      "image/png": "[encoded data removed]",
      "text/plain": [
       "<Figure size 720x288 with 1 Axes>"
      ]
     },
     "metadata": {
      "needs_background": "light"
     },
     "output_type": "display_data"
    }
   ],
   "source": [
    "fig, ax = plt.subplots(1,1, figsize=(10,4))\n",
    "\n",
    "idx = pd.IndexSlice\n",
    "for asset in asset_names:\n",
    "    price = env.data_source.data.loc[idx[:,asset],['close']]    \n",
    "    ax.plot(price.close.values, label=asset)\n",
    "\n",
    "ax.set_ylabel('Asset price')\n",
    "ax.legend()"
   ]
  },
  {
   "cell_type": "markdown",
   "metadata": {},
   "source": [
    "## single episode "
   ]
  },
  {
   "cell_type": "code",
   "execution_count": 39,
   "metadata": {},
   "outputs": [],
   "source": [
    "def test_single_episode(env, agent, step_offset=None, with_ipm=False):\n",
    "    price_epi = []\n",
    "    action_epi = []\n",
    "    reward_epi = []\n",
    "    \n",
    "    env.reset()\n",
    "    if step_offset is not None:\n",
    "        env.data_source.offset = step_offset\n",
    "        \n",
    "    state, end = env.init_step()\n",
    "    while not end:\n",
    "        if with_ipm:\n",
    "            ipm_predict = agent.ipm_predict_and_learn(state[-1])\n",
    "            \n",
    "        with torch.no_grad():\n",
    "            if with_ipm:\n",
    "                action = agent.get_action(torch.tensor(state[1], dtype=torch.float32).view(1,k,-1),\n",
    "                                     torch.tensor(ipm_predict, dtype=torch.float32).view(1,-1))\n",
    "            else:\n",
    "                action = agent.get_action(torch.tensor(state[1], dtype=torch.float32).view(1,k,-1))\n",
    "        \n",
    "            \n",
    "            actions = {'test': action.numpy().reshape(-1)}\n",
    "            rewards, next_state, end = env.take_step(actions, state[0])\n",
    "            \n",
    "            if with_ipm:\n",
    "                ipm_predict = agent.ipm_predict_and_learn(state[-1], next_state[-1])\n",
    "            \n",
    "        \n",
    "        action_epi.append(action.numpy().reshape(-1))\n",
    "        price_epi.append(state[0])\n",
    "        reward_epi.append(rewards['test'])\n",
    "        \n",
    "        state = next_state\n",
    "    \n",
    "    \n",
    "    \n",
    "    return np.array(action_epi), np.array(price_epi), np.array(reward_epi).cumsum()\n",
    "            \n",
    "        "
   ]
  },
  {
   "cell_type": "code",
   "execution_count": 47,
   "metadata": {},
   "outputs": [],
   "source": [
    "def plot_single_episode(action_epi, price_epi, reward_epi, asset_names):\n",
    "    fig, axs = plt.subplots(3,1, figsize=(8,10))\n",
    "    \n",
    "    for i in range(len(asset_names)):\n",
    "        axs[0].plot(price_epi[:,i+1], label=asset_names[i])\n",
    "        axs[1].plot(action_epi[:,i+1], label=asset_names[i])\n",
    "    \n",
    "    axs[2].plot(reward_epi)\n",
    "    axs[0].legend()\n",
    "    axs[1].legend()\n",
    "    \n",
    "    axs[2].set_xlabel('Trading day', fontsize=14)\n",
    "    axs[0].set_ylabel('Asset price', fontsize=14)\n",
    "    axs[1].set_ylabel('Portfolio weight', fontsize=14)\n",
    "    axs[2].set_ylabel('Total reward', fontsize=14)\n",
    "    "
   ]
  },
  {
   "cell_type": "code",
   "execution_count": 41,
   "metadata": {},
   "outputs": [],
   "source": [
    "env = TradingEnvironment(num_steps=trading_days, \n",
    "                         asset_names=asset_names, \n",
    "                         k=k, \n",
    "                         cost_bps=cost_bps,\n",
    "                         agent_names=['test'],\n",
    "                         path_to_data=path_to_data\n",
    "                        )"
   ]
  },
  {
   "cell_type": "code",
   "execution_count": 43,
   "metadata": {},
   "outputs": [],
   "source": [
    "action_epi, price_epi, reward_epi = test_single_episode(env, agent)"
   ]
  },
  {
   "cell_type": "code",
   "execution_count": 48,
   "metadata": {
    "scrolled": false
   },
   "outputs": [
    {
     "data": {
      "image/png": "[encoded data removed]",
      "text/plain": [
       "<Figure size 576x720 with 3 Axes>"
      ]
     },
     "metadata": {
      "needs_background": "light"
     },
     "output_type": "display_data"
    }
   ],
   "source": [
    "plot_single_episode(action_epi, price_epi, reward_epi, asset_names)"
   ]
  },
  {
   "cell_type": "code",
   "execution_count": 32,
   "metadata": {},
   "outputs": [
    {
     "data": {
      "text/plain": [
       "3998"
      ]
     },
     "execution_count": 32,
     "metadata": {},
     "output_type": "execute_result"
    }
   ],
   "source": [
    "step_offset = env.data_source.offset\n",
    "step_offset"
   ]
  },
  {
   "cell_type": "code",
   "execution_count": 36,
   "metadata": {},
   "outputs": [
    {
     "data": {
      "image/png": "[encoded data removed]",
      "text/plain": [
       "<Figure size 576x432 with 3 Axes>"
      ]
     },
     "metadata": {
      "needs_background": "light"
     },
     "output_type": "display_data"
    }
   ],
   "source": [
    "action_epi, price_epi, reward_epi = test_single_episode(env, agent_ipm, \n",
    "                                                        step_offset=step_offset, with_ipm=True)\n",
    "plot_single_episode(action_epi, price_epi, reward_epi, asset_names)"
   ]
  },
  {
   "cell_type": "code",
   "execution_count": 37,
   "metadata": {},
   "outputs": [
    {
     "data": {
      "image/png": "[encoded data removed]",
      "text/plain": [
       "<Figure size 576x432 with 3 Axes>"
      ]
     },
     "metadata": {
      "needs_background": "light"
     },
     "output_type": "display_data"
    }
   ],
   "source": [
    "action_epi, price_epi, reward_epi = test_single_episode(env, agent_full, \n",
    "                                                        step_offset=step_offset)\n",
    "plot_single_episode(action_epi, price_epi, reward_epi, asset_names)"
   ]
  },
  {
   "cell_type": "code",
   "execution_count": 38,
   "metadata": {},
   "outputs": [
    {
     "data": {
      "image/png": "[encoded data removed]",
      "text/plain": [
       "<Figure size 576x432 with 3 Axes>"
      ]
     },
     "metadata": {
      "needs_background": "light"
     },
     "output_type": "display_data"
    }
   ],
   "source": [
    "action_epi, price_epi, reward_epi = test_single_episode(env, agent_full, \n",
    "                                                        step_offset=step_offset, with_ipm=True)\n",
    "plot_single_episode(action_epi, price_epi, reward_epi, asset_names)"
   ]
  },
  {
   "cell_type": "code",
   "execution_count": 35,
   "metadata": {},
   "outputs": [
    {
     "data": {
      "text/plain": [
       "679"
      ]
     },
     "execution_count": 35,
     "metadata": {},
     "output_type": "execute_result"
    }
   ],
   "source": [
    "env.data_source.offset"
   ]
  }
 ],
 "metadata": {
  "kernelspec": {
   "display_name": "Python 3",
   "language": "python",
   "name": "python3"
  },
  "language_info": {
   "codemirror_mode": {
    "name": "ipython",
    "version": 3
   },
   "file_extension": ".py",
   "mimetype": "text/x-python",
   "name": "python",
   "nbconvert_exporter": "python",
   "pygments_lexer": "ipython3",
   "version": "3.8.5"
  },
  "toc": {
   "base_numbering": 1,
   "nav_menu": {},
   "number_sections": true,
   "sideBar": true,
   "skip_h1_title": false,
   "title_cell": "Table of Contents",
   "title_sidebar": "Contents",
   "toc_cell": false,
   "toc_position": {
    "height": "calc(100% - 180px)",
    "left": "10px",
    "top": "150px",
    "width": "285.797px"
   },
   "toc_section_display": true,
   "toc_window_display": true
  },
  "varInspector": {
   "cols": {
    "lenName": 16,
    "lenType": 16,
    "lenVar": 40
   },
   "kernels_config": {
    "python": {
     "delete_cmd_postfix": "",
     "delete_cmd_prefix": "del ",
     "library": "var_list.py",
     "varRefreshCmd": "print(var_dic_list())"
    },
    "r": {
     "delete_cmd_postfix": ") ",
     "delete_cmd_prefix": "rm(",
     "library": "var_list.r",
     "varRefreshCmd": "cat(var_dic_list()) "
    }
   },
   "types_to_exclude": [
    "module",
    "function",
    "builtin_function_or_method",
    "instance",
    "_Feature"
   ],
   "window_display": false
  }
 },
 "nbformat": 4,
 "nbformat_minor": 4
}
